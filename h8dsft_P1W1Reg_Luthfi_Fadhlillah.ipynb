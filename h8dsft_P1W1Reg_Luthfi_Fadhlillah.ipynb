{
 "cells": [
  {
   "cell_type": "markdown",
   "metadata": {},
   "source": [
    "# Graded Challenge 1 (Regression)\n",
    "---\n",
    "## Introduction\n",
    "\n",
    "**Nama : Luthfi Fadhlillah**\n",
    "<br>\n",
    "**Batch : FTDS 009**\n",
    "\n",
    "---\n",
    "\n",
    "\n"
   ]
  },
  {
   "cell_type": "markdown",
   "metadata": {},
   "source": [
    "Data diambil dari situs kaggle (https://www.kaggle.com/brllrb/uber-and-lyft-dataset-boston-ma). Tugas ini meruppakan bagian dari Phase 1 yang bertujuan untuk mengimplementasikan Linear Regression dalam Machine Learning."
   ]
  },
  {
   "cell_type": "markdown",
   "metadata": {},
   "source": [
    "## Import Library\n",
    "\n",
    "Melakukan import pustaka yang dibutuhkan dalam proses analisis dataset.\n",
    "\n",
    "---"
   ]
  },
  {
   "cell_type": "code",
   "execution_count": 1,
   "metadata": {},
   "outputs": [],
   "source": [
    "import pandas as pd\n",
    "import numpy as np\n",
    "import matplotlib.pyplot as plt\n",
    "import seaborn as sns\n",
    "\n",
    "from sklearn.compose import ColumnTransformer\n",
    "from sklearn.compose import make_column_transformer\n",
    "from sklearn.preprocessing import StandardScaler,MinMaxScaler,RobustScaler\n",
    "from sklearn.preprocessing import LabelEncoder,OneHotEncoder\n",
    "from sklearn.model_selection import train_test_split\n",
    "from sklearn.linear_model import LinearRegression\n",
    "from feature_engine.outliers import Winsorizer\n",
    "from sklearn.model_selection import RepeatedKFold\n",
    "from sklearn.model_selection import cross_val_score\n",
    "from sklearn.metrics import r2_score, mean_squared_error, mean_absolute_error\n",
    "from sklearn.metrics import accuracy_score\n"
   ]
  },
  {
   "cell_type": "markdown",
   "metadata": {},
   "source": [
    "## Data Loading\n",
    "Melakukan loading data yang akan digunakan.\n",
    "\n",
    "---\n"
   ]
  },
  {
   "cell_type": "code",
   "execution_count": 2,
   "metadata": {},
   "outputs": [
    {
     "ename": "FileNotFoundError",
     "evalue": "[Errno 2] No such file or directory: 'rideshare_kaggle.csv'",
     "output_type": "error",
     "traceback": [
      "\u001b[1;31m---------------------------------------------------------------------------\u001b[0m",
      "\u001b[1;31mFileNotFoundError\u001b[0m                         Traceback (most recent call last)",
      "\u001b[1;32mc:\\Hacktiv8 FTDS 009\\Graded\\Graded_Challenge\\p1---ftds009---g1-Luthfifadhlillah55\\h8dsft_P1W1Reg_Luthfi_Fadhlillah.ipynb Cell 6'\u001b[0m in \u001b[0;36m<module>\u001b[1;34m\u001b[0m\n\u001b[1;32m----> <a href='vscode-notebook-cell:/c%3A/Hacktiv8%20FTDS%20009/Graded/Graded_Challenge/p1---ftds009---g1-Luthfifadhlillah55/h8dsft_P1W1Reg_Luthfi_Fadhlillah.ipynb#ch0000005?line=0'>1</a>\u001b[0m data \u001b[39m=\u001b[39m pd\u001b[39m.\u001b[39;49mread_csv(\u001b[39m'\u001b[39;49m\u001b[39mrideshare_kaggle.csv\u001b[39;49m\u001b[39m'\u001b[39;49m)\n\u001b[0;32m      <a href='vscode-notebook-cell:/c%3A/Hacktiv8%20FTDS%20009/Graded/Graded_Challenge/p1---ftds009---g1-Luthfifadhlillah55/h8dsft_P1W1Reg_Luthfi_Fadhlillah.ipynb#ch0000005?line=1'>2</a>\u001b[0m data\n",
      "File \u001b[1;32m~\\AppData\\Local\\Programs\\Python\\Python310\\lib\\site-packages\\pandas\\util\\_decorators.py:311\u001b[0m, in \u001b[0;36mdeprecate_nonkeyword_arguments.<locals>.decorate.<locals>.wrapper\u001b[1;34m(*args, **kwargs)\u001b[0m\n\u001b[0;32m    <a href='file:///c%3A/Users/Luthfi%20Fadhlillah/AppData/Local/Programs/Python/Python310/lib/site-packages/pandas/util/_decorators.py?line=304'>305</a>\u001b[0m \u001b[39mif\u001b[39;00m \u001b[39mlen\u001b[39m(args) \u001b[39m>\u001b[39m num_allow_args:\n\u001b[0;32m    <a href='file:///c%3A/Users/Luthfi%20Fadhlillah/AppData/Local/Programs/Python/Python310/lib/site-packages/pandas/util/_decorators.py?line=305'>306</a>\u001b[0m     warnings\u001b[39m.\u001b[39mwarn(\n\u001b[0;32m    <a href='file:///c%3A/Users/Luthfi%20Fadhlillah/AppData/Local/Programs/Python/Python310/lib/site-packages/pandas/util/_decorators.py?line=306'>307</a>\u001b[0m         msg\u001b[39m.\u001b[39mformat(arguments\u001b[39m=\u001b[39marguments),\n\u001b[0;32m    <a href='file:///c%3A/Users/Luthfi%20Fadhlillah/AppData/Local/Programs/Python/Python310/lib/site-packages/pandas/util/_decorators.py?line=307'>308</a>\u001b[0m         \u001b[39mFutureWarning\u001b[39;00m,\n\u001b[0;32m    <a href='file:///c%3A/Users/Luthfi%20Fadhlillah/AppData/Local/Programs/Python/Python310/lib/site-packages/pandas/util/_decorators.py?line=308'>309</a>\u001b[0m         stacklevel\u001b[39m=\u001b[39mstacklevel,\n\u001b[0;32m    <a href='file:///c%3A/Users/Luthfi%20Fadhlillah/AppData/Local/Programs/Python/Python310/lib/site-packages/pandas/util/_decorators.py?line=309'>310</a>\u001b[0m     )\n\u001b[1;32m--> <a href='file:///c%3A/Users/Luthfi%20Fadhlillah/AppData/Local/Programs/Python/Python310/lib/site-packages/pandas/util/_decorators.py?line=310'>311</a>\u001b[0m \u001b[39mreturn\u001b[39;00m func(\u001b[39m*\u001b[39margs, \u001b[39m*\u001b[39m\u001b[39m*\u001b[39mkwargs)\n",
      "File \u001b[1;32m~\\AppData\\Local\\Programs\\Python\\Python310\\lib\\site-packages\\pandas\\io\\parsers\\readers.py:680\u001b[0m, in \u001b[0;36mread_csv\u001b[1;34m(filepath_or_buffer, sep, delimiter, header, names, index_col, usecols, squeeze, prefix, mangle_dupe_cols, dtype, engine, converters, true_values, false_values, skipinitialspace, skiprows, skipfooter, nrows, na_values, keep_default_na, na_filter, verbose, skip_blank_lines, parse_dates, infer_datetime_format, keep_date_col, date_parser, dayfirst, cache_dates, iterator, chunksize, compression, thousands, decimal, lineterminator, quotechar, quoting, doublequote, escapechar, comment, encoding, encoding_errors, dialect, error_bad_lines, warn_bad_lines, on_bad_lines, delim_whitespace, low_memory, memory_map, float_precision, storage_options)\u001b[0m\n\u001b[0;32m    <a href='file:///c%3A/Users/Luthfi%20Fadhlillah/AppData/Local/Programs/Python/Python310/lib/site-packages/pandas/io/parsers/readers.py?line=664'>665</a>\u001b[0m kwds_defaults \u001b[39m=\u001b[39m _refine_defaults_read(\n\u001b[0;32m    <a href='file:///c%3A/Users/Luthfi%20Fadhlillah/AppData/Local/Programs/Python/Python310/lib/site-packages/pandas/io/parsers/readers.py?line=665'>666</a>\u001b[0m     dialect,\n\u001b[0;32m    <a href='file:///c%3A/Users/Luthfi%20Fadhlillah/AppData/Local/Programs/Python/Python310/lib/site-packages/pandas/io/parsers/readers.py?line=666'>667</a>\u001b[0m     delimiter,\n\u001b[1;32m   (...)\u001b[0m\n\u001b[0;32m    <a href='file:///c%3A/Users/Luthfi%20Fadhlillah/AppData/Local/Programs/Python/Python310/lib/site-packages/pandas/io/parsers/readers.py?line=675'>676</a>\u001b[0m     defaults\u001b[39m=\u001b[39m{\u001b[39m\"\u001b[39m\u001b[39mdelimiter\u001b[39m\u001b[39m\"\u001b[39m: \u001b[39m\"\u001b[39m\u001b[39m,\u001b[39m\u001b[39m\"\u001b[39m},\n\u001b[0;32m    <a href='file:///c%3A/Users/Luthfi%20Fadhlillah/AppData/Local/Programs/Python/Python310/lib/site-packages/pandas/io/parsers/readers.py?line=676'>677</a>\u001b[0m )\n\u001b[0;32m    <a href='file:///c%3A/Users/Luthfi%20Fadhlillah/AppData/Local/Programs/Python/Python310/lib/site-packages/pandas/io/parsers/readers.py?line=677'>678</a>\u001b[0m kwds\u001b[39m.\u001b[39mupdate(kwds_defaults)\n\u001b[1;32m--> <a href='file:///c%3A/Users/Luthfi%20Fadhlillah/AppData/Local/Programs/Python/Python310/lib/site-packages/pandas/io/parsers/readers.py?line=679'>680</a>\u001b[0m \u001b[39mreturn\u001b[39;00m _read(filepath_or_buffer, kwds)\n",
      "File \u001b[1;32m~\\AppData\\Local\\Programs\\Python\\Python310\\lib\\site-packages\\pandas\\io\\parsers\\readers.py:575\u001b[0m, in \u001b[0;36m_read\u001b[1;34m(filepath_or_buffer, kwds)\u001b[0m\n\u001b[0;32m    <a href='file:///c%3A/Users/Luthfi%20Fadhlillah/AppData/Local/Programs/Python/Python310/lib/site-packages/pandas/io/parsers/readers.py?line=571'>572</a>\u001b[0m _validate_names(kwds\u001b[39m.\u001b[39mget(\u001b[39m\"\u001b[39m\u001b[39mnames\u001b[39m\u001b[39m\"\u001b[39m, \u001b[39mNone\u001b[39;00m))\n\u001b[0;32m    <a href='file:///c%3A/Users/Luthfi%20Fadhlillah/AppData/Local/Programs/Python/Python310/lib/site-packages/pandas/io/parsers/readers.py?line=573'>574</a>\u001b[0m \u001b[39m# Create the parser.\u001b[39;00m\n\u001b[1;32m--> <a href='file:///c%3A/Users/Luthfi%20Fadhlillah/AppData/Local/Programs/Python/Python310/lib/site-packages/pandas/io/parsers/readers.py?line=574'>575</a>\u001b[0m parser \u001b[39m=\u001b[39m TextFileReader(filepath_or_buffer, \u001b[39m*\u001b[39m\u001b[39m*\u001b[39mkwds)\n\u001b[0;32m    <a href='file:///c%3A/Users/Luthfi%20Fadhlillah/AppData/Local/Programs/Python/Python310/lib/site-packages/pandas/io/parsers/readers.py?line=576'>577</a>\u001b[0m \u001b[39mif\u001b[39;00m chunksize \u001b[39mor\u001b[39;00m iterator:\n\u001b[0;32m    <a href='file:///c%3A/Users/Luthfi%20Fadhlillah/AppData/Local/Programs/Python/Python310/lib/site-packages/pandas/io/parsers/readers.py?line=577'>578</a>\u001b[0m     \u001b[39mreturn\u001b[39;00m parser\n",
      "File \u001b[1;32m~\\AppData\\Local\\Programs\\Python\\Python310\\lib\\site-packages\\pandas\\io\\parsers\\readers.py:933\u001b[0m, in \u001b[0;36mTextFileReader.__init__\u001b[1;34m(self, f, engine, **kwds)\u001b[0m\n\u001b[0;32m    <a href='file:///c%3A/Users/Luthfi%20Fadhlillah/AppData/Local/Programs/Python/Python310/lib/site-packages/pandas/io/parsers/readers.py?line=929'>930</a>\u001b[0m     \u001b[39mself\u001b[39m\u001b[39m.\u001b[39moptions[\u001b[39m\"\u001b[39m\u001b[39mhas_index_names\u001b[39m\u001b[39m\"\u001b[39m] \u001b[39m=\u001b[39m kwds[\u001b[39m\"\u001b[39m\u001b[39mhas_index_names\u001b[39m\u001b[39m\"\u001b[39m]\n\u001b[0;32m    <a href='file:///c%3A/Users/Luthfi%20Fadhlillah/AppData/Local/Programs/Python/Python310/lib/site-packages/pandas/io/parsers/readers.py?line=931'>932</a>\u001b[0m \u001b[39mself\u001b[39m\u001b[39m.\u001b[39mhandles: IOHandles \u001b[39m|\u001b[39m \u001b[39mNone\u001b[39;00m \u001b[39m=\u001b[39m \u001b[39mNone\u001b[39;00m\n\u001b[1;32m--> <a href='file:///c%3A/Users/Luthfi%20Fadhlillah/AppData/Local/Programs/Python/Python310/lib/site-packages/pandas/io/parsers/readers.py?line=932'>933</a>\u001b[0m \u001b[39mself\u001b[39m\u001b[39m.\u001b[39m_engine \u001b[39m=\u001b[39m \u001b[39mself\u001b[39;49m\u001b[39m.\u001b[39;49m_make_engine(f, \u001b[39mself\u001b[39;49m\u001b[39m.\u001b[39;49mengine)\n",
      "File \u001b[1;32m~\\AppData\\Local\\Programs\\Python\\Python310\\lib\\site-packages\\pandas\\io\\parsers\\readers.py:1217\u001b[0m, in \u001b[0;36mTextFileReader._make_engine\u001b[1;34m(self, f, engine)\u001b[0m\n\u001b[0;32m   <a href='file:///c%3A/Users/Luthfi%20Fadhlillah/AppData/Local/Programs/Python/Python310/lib/site-packages/pandas/io/parsers/readers.py?line=1212'>1213</a>\u001b[0m     mode \u001b[39m=\u001b[39m \u001b[39m\"\u001b[39m\u001b[39mrb\u001b[39m\u001b[39m\"\u001b[39m\n\u001b[0;32m   <a href='file:///c%3A/Users/Luthfi%20Fadhlillah/AppData/Local/Programs/Python/Python310/lib/site-packages/pandas/io/parsers/readers.py?line=1213'>1214</a>\u001b[0m \u001b[39m# error: No overload variant of \"get_handle\" matches argument types\u001b[39;00m\n\u001b[0;32m   <a href='file:///c%3A/Users/Luthfi%20Fadhlillah/AppData/Local/Programs/Python/Python310/lib/site-packages/pandas/io/parsers/readers.py?line=1214'>1215</a>\u001b[0m \u001b[39m# \"Union[str, PathLike[str], ReadCsvBuffer[bytes], ReadCsvBuffer[str]]\"\u001b[39;00m\n\u001b[0;32m   <a href='file:///c%3A/Users/Luthfi%20Fadhlillah/AppData/Local/Programs/Python/Python310/lib/site-packages/pandas/io/parsers/readers.py?line=1215'>1216</a>\u001b[0m \u001b[39m# , \"str\", \"bool\", \"Any\", \"Any\", \"Any\", \"Any\", \"Any\"\u001b[39;00m\n\u001b[1;32m-> <a href='file:///c%3A/Users/Luthfi%20Fadhlillah/AppData/Local/Programs/Python/Python310/lib/site-packages/pandas/io/parsers/readers.py?line=1216'>1217</a>\u001b[0m \u001b[39mself\u001b[39m\u001b[39m.\u001b[39mhandles \u001b[39m=\u001b[39m get_handle(  \u001b[39m# type: ignore[call-overload]\u001b[39;49;00m\n\u001b[0;32m   <a href='file:///c%3A/Users/Luthfi%20Fadhlillah/AppData/Local/Programs/Python/Python310/lib/site-packages/pandas/io/parsers/readers.py?line=1217'>1218</a>\u001b[0m     f,\n\u001b[0;32m   <a href='file:///c%3A/Users/Luthfi%20Fadhlillah/AppData/Local/Programs/Python/Python310/lib/site-packages/pandas/io/parsers/readers.py?line=1218'>1219</a>\u001b[0m     mode,\n\u001b[0;32m   <a href='file:///c%3A/Users/Luthfi%20Fadhlillah/AppData/Local/Programs/Python/Python310/lib/site-packages/pandas/io/parsers/readers.py?line=1219'>1220</a>\u001b[0m     encoding\u001b[39m=\u001b[39;49m\u001b[39mself\u001b[39;49m\u001b[39m.\u001b[39;49moptions\u001b[39m.\u001b[39;49mget(\u001b[39m\"\u001b[39;49m\u001b[39mencoding\u001b[39;49m\u001b[39m\"\u001b[39;49m, \u001b[39mNone\u001b[39;49;00m),\n\u001b[0;32m   <a href='file:///c%3A/Users/Luthfi%20Fadhlillah/AppData/Local/Programs/Python/Python310/lib/site-packages/pandas/io/parsers/readers.py?line=1220'>1221</a>\u001b[0m     compression\u001b[39m=\u001b[39;49m\u001b[39mself\u001b[39;49m\u001b[39m.\u001b[39;49moptions\u001b[39m.\u001b[39;49mget(\u001b[39m\"\u001b[39;49m\u001b[39mcompression\u001b[39;49m\u001b[39m\"\u001b[39;49m, \u001b[39mNone\u001b[39;49;00m),\n\u001b[0;32m   <a href='file:///c%3A/Users/Luthfi%20Fadhlillah/AppData/Local/Programs/Python/Python310/lib/site-packages/pandas/io/parsers/readers.py?line=1221'>1222</a>\u001b[0m     memory_map\u001b[39m=\u001b[39;49m\u001b[39mself\u001b[39;49m\u001b[39m.\u001b[39;49moptions\u001b[39m.\u001b[39;49mget(\u001b[39m\"\u001b[39;49m\u001b[39mmemory_map\u001b[39;49m\u001b[39m\"\u001b[39;49m, \u001b[39mFalse\u001b[39;49;00m),\n\u001b[0;32m   <a href='file:///c%3A/Users/Luthfi%20Fadhlillah/AppData/Local/Programs/Python/Python310/lib/site-packages/pandas/io/parsers/readers.py?line=1222'>1223</a>\u001b[0m     is_text\u001b[39m=\u001b[39;49mis_text,\n\u001b[0;32m   <a href='file:///c%3A/Users/Luthfi%20Fadhlillah/AppData/Local/Programs/Python/Python310/lib/site-packages/pandas/io/parsers/readers.py?line=1223'>1224</a>\u001b[0m     errors\u001b[39m=\u001b[39;49m\u001b[39mself\u001b[39;49m\u001b[39m.\u001b[39;49moptions\u001b[39m.\u001b[39;49mget(\u001b[39m\"\u001b[39;49m\u001b[39mencoding_errors\u001b[39;49m\u001b[39m\"\u001b[39;49m, \u001b[39m\"\u001b[39;49m\u001b[39mstrict\u001b[39;49m\u001b[39m\"\u001b[39;49m),\n\u001b[0;32m   <a href='file:///c%3A/Users/Luthfi%20Fadhlillah/AppData/Local/Programs/Python/Python310/lib/site-packages/pandas/io/parsers/readers.py?line=1224'>1225</a>\u001b[0m     storage_options\u001b[39m=\u001b[39;49m\u001b[39mself\u001b[39;49m\u001b[39m.\u001b[39;49moptions\u001b[39m.\u001b[39;49mget(\u001b[39m\"\u001b[39;49m\u001b[39mstorage_options\u001b[39;49m\u001b[39m\"\u001b[39;49m, \u001b[39mNone\u001b[39;49;00m),\n\u001b[0;32m   <a href='file:///c%3A/Users/Luthfi%20Fadhlillah/AppData/Local/Programs/Python/Python310/lib/site-packages/pandas/io/parsers/readers.py?line=1225'>1226</a>\u001b[0m )\n\u001b[0;32m   <a href='file:///c%3A/Users/Luthfi%20Fadhlillah/AppData/Local/Programs/Python/Python310/lib/site-packages/pandas/io/parsers/readers.py?line=1226'>1227</a>\u001b[0m \u001b[39massert\u001b[39;00m \u001b[39mself\u001b[39m\u001b[39m.\u001b[39mhandles \u001b[39mis\u001b[39;00m \u001b[39mnot\u001b[39;00m \u001b[39mNone\u001b[39;00m\n\u001b[0;32m   <a href='file:///c%3A/Users/Luthfi%20Fadhlillah/AppData/Local/Programs/Python/Python310/lib/site-packages/pandas/io/parsers/readers.py?line=1227'>1228</a>\u001b[0m f \u001b[39m=\u001b[39m \u001b[39mself\u001b[39m\u001b[39m.\u001b[39mhandles\u001b[39m.\u001b[39mhandle\n",
      "File \u001b[1;32m~\\AppData\\Local\\Programs\\Python\\Python310\\lib\\site-packages\\pandas\\io\\common.py:789\u001b[0m, in \u001b[0;36mget_handle\u001b[1;34m(path_or_buf, mode, encoding, compression, memory_map, is_text, errors, storage_options)\u001b[0m\n\u001b[0;32m    <a href='file:///c%3A/Users/Luthfi%20Fadhlillah/AppData/Local/Programs/Python/Python310/lib/site-packages/pandas/io/common.py?line=783'>784</a>\u001b[0m \u001b[39melif\u001b[39;00m \u001b[39misinstance\u001b[39m(handle, \u001b[39mstr\u001b[39m):\n\u001b[0;32m    <a href='file:///c%3A/Users/Luthfi%20Fadhlillah/AppData/Local/Programs/Python/Python310/lib/site-packages/pandas/io/common.py?line=784'>785</a>\u001b[0m     \u001b[39m# Check whether the filename is to be opened in binary mode.\u001b[39;00m\n\u001b[0;32m    <a href='file:///c%3A/Users/Luthfi%20Fadhlillah/AppData/Local/Programs/Python/Python310/lib/site-packages/pandas/io/common.py?line=785'>786</a>\u001b[0m     \u001b[39m# Binary mode does not support 'encoding' and 'newline'.\u001b[39;00m\n\u001b[0;32m    <a href='file:///c%3A/Users/Luthfi%20Fadhlillah/AppData/Local/Programs/Python/Python310/lib/site-packages/pandas/io/common.py?line=786'>787</a>\u001b[0m     \u001b[39mif\u001b[39;00m ioargs\u001b[39m.\u001b[39mencoding \u001b[39mand\u001b[39;00m \u001b[39m\"\u001b[39m\u001b[39mb\u001b[39m\u001b[39m\"\u001b[39m \u001b[39mnot\u001b[39;00m \u001b[39min\u001b[39;00m ioargs\u001b[39m.\u001b[39mmode:\n\u001b[0;32m    <a href='file:///c%3A/Users/Luthfi%20Fadhlillah/AppData/Local/Programs/Python/Python310/lib/site-packages/pandas/io/common.py?line=787'>788</a>\u001b[0m         \u001b[39m# Encoding\u001b[39;00m\n\u001b[1;32m--> <a href='file:///c%3A/Users/Luthfi%20Fadhlillah/AppData/Local/Programs/Python/Python310/lib/site-packages/pandas/io/common.py?line=788'>789</a>\u001b[0m         handle \u001b[39m=\u001b[39m \u001b[39mopen\u001b[39;49m(\n\u001b[0;32m    <a href='file:///c%3A/Users/Luthfi%20Fadhlillah/AppData/Local/Programs/Python/Python310/lib/site-packages/pandas/io/common.py?line=789'>790</a>\u001b[0m             handle,\n\u001b[0;32m    <a href='file:///c%3A/Users/Luthfi%20Fadhlillah/AppData/Local/Programs/Python/Python310/lib/site-packages/pandas/io/common.py?line=790'>791</a>\u001b[0m             ioargs\u001b[39m.\u001b[39;49mmode,\n\u001b[0;32m    <a href='file:///c%3A/Users/Luthfi%20Fadhlillah/AppData/Local/Programs/Python/Python310/lib/site-packages/pandas/io/common.py?line=791'>792</a>\u001b[0m             encoding\u001b[39m=\u001b[39;49mioargs\u001b[39m.\u001b[39;49mencoding,\n\u001b[0;32m    <a href='file:///c%3A/Users/Luthfi%20Fadhlillah/AppData/Local/Programs/Python/Python310/lib/site-packages/pandas/io/common.py?line=792'>793</a>\u001b[0m             errors\u001b[39m=\u001b[39;49merrors,\n\u001b[0;32m    <a href='file:///c%3A/Users/Luthfi%20Fadhlillah/AppData/Local/Programs/Python/Python310/lib/site-packages/pandas/io/common.py?line=793'>794</a>\u001b[0m             newline\u001b[39m=\u001b[39;49m\u001b[39m\"\u001b[39;49m\u001b[39m\"\u001b[39;49m,\n\u001b[0;32m    <a href='file:///c%3A/Users/Luthfi%20Fadhlillah/AppData/Local/Programs/Python/Python310/lib/site-packages/pandas/io/common.py?line=794'>795</a>\u001b[0m         )\n\u001b[0;32m    <a href='file:///c%3A/Users/Luthfi%20Fadhlillah/AppData/Local/Programs/Python/Python310/lib/site-packages/pandas/io/common.py?line=795'>796</a>\u001b[0m     \u001b[39melse\u001b[39;00m:\n\u001b[0;32m    <a href='file:///c%3A/Users/Luthfi%20Fadhlillah/AppData/Local/Programs/Python/Python310/lib/site-packages/pandas/io/common.py?line=796'>797</a>\u001b[0m         \u001b[39m# Binary mode\u001b[39;00m\n\u001b[0;32m    <a href='file:///c%3A/Users/Luthfi%20Fadhlillah/AppData/Local/Programs/Python/Python310/lib/site-packages/pandas/io/common.py?line=797'>798</a>\u001b[0m         handle \u001b[39m=\u001b[39m \u001b[39mopen\u001b[39m(handle, ioargs\u001b[39m.\u001b[39mmode)\n",
      "\u001b[1;31mFileNotFoundError\u001b[0m: [Errno 2] No such file or directory: 'rideshare_kaggle.csv'"
     ]
    }
   ],
   "source": [
    "data = pd.read_csv('rideshare_kaggle.csv')\n",
    "data"
   ]
  },
  {
   "cell_type": "markdown",
   "metadata": {},
   "source": [
    "Data terdiri dari 693071 baris dan 57 column"
   ]
  },
  {
   "cell_type": "code",
   "execution_count": null,
   "metadata": {},
   "outputs": [
    {
     "name": "stdout",
     "output_type": "stream",
     "text": [
      "<class 'pandas.core.frame.DataFrame'>\n",
      "RangeIndex: 693071 entries, 0 to 693070\n",
      "Data columns (total 57 columns):\n",
      " #   Column                       Non-Null Count   Dtype  \n",
      "---  ------                       --------------   -----  \n",
      " 0   id                           693071 non-null  object \n",
      " 1   timestamp                    693071 non-null  float64\n",
      " 2   hour                         693071 non-null  int64  \n",
      " 3   day                          693071 non-null  int64  \n",
      " 4   month                        693071 non-null  int64  \n",
      " 5   datetime                     693071 non-null  object \n",
      " 6   timezone                     693071 non-null  object \n",
      " 7   source                       693071 non-null  object \n",
      " 8   destination                  693071 non-null  object \n",
      " 9   cab_type                     693071 non-null  object \n",
      " 10  product_id                   693071 non-null  object \n",
      " 11  name                         693071 non-null  object \n",
      " 12  price                        637976 non-null  float64\n",
      " 13  distance                     693071 non-null  float64\n",
      " 14  surge_multiplier             693071 non-null  float64\n",
      " 15  latitude                     693071 non-null  float64\n",
      " 16  longitude                    693071 non-null  float64\n",
      " 17  temperature                  693071 non-null  float64\n",
      " 18  apparentTemperature          693071 non-null  float64\n",
      " 19  short_summary                693071 non-null  object \n",
      " 20  long_summary                 693071 non-null  object \n",
      " 21  precipIntensity              693071 non-null  float64\n",
      " 22  precipProbability            693071 non-null  float64\n",
      " 23  humidity                     693071 non-null  float64\n",
      " 24  windSpeed                    693071 non-null  float64\n",
      " 25  windGust                     693071 non-null  float64\n",
      " 26  windGustTime                 693071 non-null  int64  \n",
      " 27  visibility                   693071 non-null  float64\n",
      " 28  temperatureHigh              693071 non-null  float64\n",
      " 29  temperatureHighTime          693071 non-null  int64  \n",
      " 30  temperatureLow               693071 non-null  float64\n",
      " 31  temperatureLowTime           693071 non-null  int64  \n",
      " 32  apparentTemperatureHigh      693071 non-null  float64\n",
      " 33  apparentTemperatureHighTime  693071 non-null  int64  \n",
      " 34  apparentTemperatureLow       693071 non-null  float64\n",
      " 35  apparentTemperatureLowTime   693071 non-null  int64  \n",
      " 36  icon                         693071 non-null  object \n",
      " 37  dewPoint                     693071 non-null  float64\n",
      " 38  pressure                     693071 non-null  float64\n",
      " 39  windBearing                  693071 non-null  int64  \n",
      " 40  cloudCover                   693071 non-null  float64\n",
      " 41  uvIndex                      693071 non-null  int64  \n",
      " 42  visibility.1                 693071 non-null  float64\n",
      " 43  ozone                        693071 non-null  float64\n",
      " 44  sunriseTime                  693071 non-null  int64  \n",
      " 45  sunsetTime                   693071 non-null  int64  \n",
      " 46  moonPhase                    693071 non-null  float64\n",
      " 47  precipIntensityMax           693071 non-null  float64\n",
      " 48  uvIndexTime                  693071 non-null  int64  \n",
      " 49  temperatureMin               693071 non-null  float64\n",
      " 50  temperatureMinTime           693071 non-null  int64  \n",
      " 51  temperatureMax               693071 non-null  float64\n",
      " 52  temperatureMaxTime           693071 non-null  int64  \n",
      " 53  apparentTemperatureMin       693071 non-null  float64\n",
      " 54  apparentTemperatureMinTime   693071 non-null  int64  \n",
      " 55  apparentTemperatureMax       693071 non-null  float64\n",
      " 56  apparentTemperatureMaxTime   693071 non-null  int64  \n",
      "dtypes: float64(29), int64(17), object(11)\n",
      "memory usage: 301.4+ MB\n"
     ]
    }
   ],
   "source": [
    "data.info()"
   ]
  },
  {
   "cell_type": "markdown",
   "metadata": {},
   "source": [
    "Dataset terdiri dari 3 jenis tipe data yaitu: float, integer, dab string"
   ]
  },
  {
   "cell_type": "code",
   "execution_count": null,
   "metadata": {},
   "outputs": [
    {
     "data": {
      "text/plain": [
       "id                                 0\n",
       "timestamp                          0\n",
       "hour                               0\n",
       "day                                0\n",
       "month                              0\n",
       "datetime                           0\n",
       "timezone                           0\n",
       "source                             0\n",
       "destination                        0\n",
       "cab_type                           0\n",
       "product_id                         0\n",
       "name                               0\n",
       "price                          55095\n",
       "distance                           0\n",
       "surge_multiplier                   0\n",
       "latitude                           0\n",
       "longitude                          0\n",
       "temperature                        0\n",
       "apparentTemperature                0\n",
       "short_summary                      0\n",
       "long_summary                       0\n",
       "precipIntensity                    0\n",
       "precipProbability                  0\n",
       "humidity                           0\n",
       "windSpeed                          0\n",
       "windGust                           0\n",
       "windGustTime                       0\n",
       "visibility                         0\n",
       "temperatureHigh                    0\n",
       "temperatureHighTime                0\n",
       "temperatureLow                     0\n",
       "temperatureLowTime                 0\n",
       "apparentTemperatureHigh            0\n",
       "apparentTemperatureHighTime        0\n",
       "apparentTemperatureLow             0\n",
       "apparentTemperatureLowTime         0\n",
       "icon                               0\n",
       "dewPoint                           0\n",
       "pressure                           0\n",
       "windBearing                        0\n",
       "cloudCover                         0\n",
       "uvIndex                            0\n",
       "visibility.1                       0\n",
       "ozone                              0\n",
       "sunriseTime                        0\n",
       "sunsetTime                         0\n",
       "moonPhase                          0\n",
       "precipIntensityMax                 0\n",
       "uvIndexTime                        0\n",
       "temperatureMin                     0\n",
       "temperatureMinTime                 0\n",
       "temperatureMax                     0\n",
       "temperatureMaxTime                 0\n",
       "apparentTemperatureMin             0\n",
       "apparentTemperatureMinTime         0\n",
       "apparentTemperatureMax             0\n",
       "apparentTemperatureMaxTime         0\n",
       "dtype: int64"
      ]
     },
     "execution_count": 16,
     "metadata": {},
     "output_type": "execute_result"
    }
   ],
   "source": [
    "data.isnull().sum()"
   ]
  },
  {
   "cell_type": "markdown",
   "metadata": {},
   "source": [
    "Terdapat nilai null dari kolom `price` sebanyak 55095"
   ]
  },
  {
   "cell_type": "code",
   "execution_count": null,
   "metadata": {},
   "outputs": [
    {
     "data": {
      "text/html": [
       "<div>\n",
       "<style scoped>\n",
       "    .dataframe tbody tr th:only-of-type {\n",
       "        vertical-align: middle;\n",
       "    }\n",
       "\n",
       "    .dataframe tbody tr th {\n",
       "        vertical-align: top;\n",
       "    }\n",
       "\n",
       "    .dataframe thead th {\n",
       "        text-align: right;\n",
       "    }\n",
       "</style>\n",
       "<table border=\"1\" class=\"dataframe\">\n",
       "  <thead>\n",
       "    <tr style=\"text-align: right;\">\n",
       "      <th></th>\n",
       "      <th>count</th>\n",
       "      <th>mean</th>\n",
       "      <th>std</th>\n",
       "      <th>min</th>\n",
       "      <th>25%</th>\n",
       "      <th>50%</th>\n",
       "      <th>75%</th>\n",
       "      <th>max</th>\n",
       "    </tr>\n",
       "  </thead>\n",
       "  <tbody>\n",
       "    <tr>\n",
       "      <th>timestamp</th>\n",
       "      <td>693071.0</td>\n",
       "      <td>1.544046e+09</td>\n",
       "      <td>689192.492586</td>\n",
       "      <td>1.543204e+09</td>\n",
       "      <td>1.543444e+09</td>\n",
       "      <td>1.543737e+09</td>\n",
       "      <td>1.544828e+09</td>\n",
       "      <td>1.545161e+09</td>\n",
       "    </tr>\n",
       "    <tr>\n",
       "      <th>hour</th>\n",
       "      <td>693071.0</td>\n",
       "      <td>1.161914e+01</td>\n",
       "      <td>6.948114</td>\n",
       "      <td>0.000000e+00</td>\n",
       "      <td>6.000000e+00</td>\n",
       "      <td>1.200000e+01</td>\n",
       "      <td>1.800000e+01</td>\n",
       "      <td>2.300000e+01</td>\n",
       "    </tr>\n",
       "    <tr>\n",
       "      <th>day</th>\n",
       "      <td>693071.0</td>\n",
       "      <td>1.779436e+01</td>\n",
       "      <td>9.982286</td>\n",
       "      <td>1.000000e+00</td>\n",
       "      <td>1.300000e+01</td>\n",
       "      <td>1.700000e+01</td>\n",
       "      <td>2.800000e+01</td>\n",
       "      <td>3.000000e+01</td>\n",
       "    </tr>\n",
       "    <tr>\n",
       "      <th>month</th>\n",
       "      <td>693071.0</td>\n",
       "      <td>1.158668e+01</td>\n",
       "      <td>0.492429</td>\n",
       "      <td>1.100000e+01</td>\n",
       "      <td>1.100000e+01</td>\n",
       "      <td>1.200000e+01</td>\n",
       "      <td>1.200000e+01</td>\n",
       "      <td>1.200000e+01</td>\n",
       "    </tr>\n",
       "    <tr>\n",
       "      <th>price</th>\n",
       "      <td>637976.0</td>\n",
       "      <td>1.654513e+01</td>\n",
       "      <td>9.324359</td>\n",
       "      <td>2.500000e+00</td>\n",
       "      <td>9.000000e+00</td>\n",
       "      <td>1.350000e+01</td>\n",
       "      <td>2.250000e+01</td>\n",
       "      <td>9.750000e+01</td>\n",
       "    </tr>\n",
       "    <tr>\n",
       "      <th>distance</th>\n",
       "      <td>693071.0</td>\n",
       "      <td>2.189430e+00</td>\n",
       "      <td>1.138937</td>\n",
       "      <td>2.000000e-02</td>\n",
       "      <td>1.280000e+00</td>\n",
       "      <td>2.160000e+00</td>\n",
       "      <td>2.920000e+00</td>\n",
       "      <td>7.860000e+00</td>\n",
       "    </tr>\n",
       "    <tr>\n",
       "      <th>surge_multiplier</th>\n",
       "      <td>693071.0</td>\n",
       "      <td>1.013870e+00</td>\n",
       "      <td>0.091641</td>\n",
       "      <td>1.000000e+00</td>\n",
       "      <td>1.000000e+00</td>\n",
       "      <td>1.000000e+00</td>\n",
       "      <td>1.000000e+00</td>\n",
       "      <td>3.000000e+00</td>\n",
       "    </tr>\n",
       "    <tr>\n",
       "      <th>latitude</th>\n",
       "      <td>693071.0</td>\n",
       "      <td>4.233817e+01</td>\n",
       "      <td>0.047840</td>\n",
       "      <td>4.221480e+01</td>\n",
       "      <td>4.235030e+01</td>\n",
       "      <td>4.235190e+01</td>\n",
       "      <td>4.236470e+01</td>\n",
       "      <td>4.236610e+01</td>\n",
       "    </tr>\n",
       "    <tr>\n",
       "      <th>longitude</th>\n",
       "      <td>693071.0</td>\n",
       "      <td>-7.106615e+01</td>\n",
       "      <td>0.020302</td>\n",
       "      <td>-7.110540e+01</td>\n",
       "      <td>-7.108100e+01</td>\n",
       "      <td>-7.106310e+01</td>\n",
       "      <td>-7.105420e+01</td>\n",
       "      <td>-7.103300e+01</td>\n",
       "    </tr>\n",
       "    <tr>\n",
       "      <th>temperature</th>\n",
       "      <td>693071.0</td>\n",
       "      <td>3.958439e+01</td>\n",
       "      <td>6.726084</td>\n",
       "      <td>1.891000e+01</td>\n",
       "      <td>3.645000e+01</td>\n",
       "      <td>4.049000e+01</td>\n",
       "      <td>4.358000e+01</td>\n",
       "      <td>5.722000e+01</td>\n",
       "    </tr>\n",
       "    <tr>\n",
       "      <th>apparentTemperature</th>\n",
       "      <td>693071.0</td>\n",
       "      <td>3.588122e+01</td>\n",
       "      <td>7.918707</td>\n",
       "      <td>1.213000e+01</td>\n",
       "      <td>3.191000e+01</td>\n",
       "      <td>3.590000e+01</td>\n",
       "      <td>4.008000e+01</td>\n",
       "      <td>5.722000e+01</td>\n",
       "    </tr>\n",
       "    <tr>\n",
       "      <th>precipIntensity</th>\n",
       "      <td>693071.0</td>\n",
       "      <td>8.922153e-03</td>\n",
       "      <td>0.026901</td>\n",
       "      <td>0.000000e+00</td>\n",
       "      <td>0.000000e+00</td>\n",
       "      <td>0.000000e+00</td>\n",
       "      <td>0.000000e+00</td>\n",
       "      <td>1.447000e-01</td>\n",
       "    </tr>\n",
       "    <tr>\n",
       "      <th>precipProbability</th>\n",
       "      <td>693071.0</td>\n",
       "      <td>1.460758e-01</td>\n",
       "      <td>0.328938</td>\n",
       "      <td>0.000000e+00</td>\n",
       "      <td>0.000000e+00</td>\n",
       "      <td>0.000000e+00</td>\n",
       "      <td>0.000000e+00</td>\n",
       "      <td>1.000000e+00</td>\n",
       "    </tr>\n",
       "    <tr>\n",
       "      <th>humidity</th>\n",
       "      <td>693071.0</td>\n",
       "      <td>7.411187e-01</td>\n",
       "      <td>0.138595</td>\n",
       "      <td>3.800000e-01</td>\n",
       "      <td>6.400000e-01</td>\n",
       "      <td>7.100000e-01</td>\n",
       "      <td>8.800000e-01</td>\n",
       "      <td>9.600000e-01</td>\n",
       "    </tr>\n",
       "    <tr>\n",
       "      <th>windSpeed</th>\n",
       "      <td>693071.0</td>\n",
       "      <td>6.186253e+00</td>\n",
       "      <td>3.148223</td>\n",
       "      <td>4.500000e-01</td>\n",
       "      <td>3.410000e+00</td>\n",
       "      <td>5.910000e+00</td>\n",
       "      <td>8.410000e+00</td>\n",
       "      <td>1.500000e+01</td>\n",
       "    </tr>\n",
       "    <tr>\n",
       "      <th>windGust</th>\n",
       "      <td>693071.0</td>\n",
       "      <td>8.469860e+00</td>\n",
       "      <td>5.289179</td>\n",
       "      <td>8.000000e-01</td>\n",
       "      <td>4.060000e+00</td>\n",
       "      <td>7.550000e+00</td>\n",
       "      <td>1.174000e+01</td>\n",
       "      <td>2.725000e+01</td>\n",
       "    </tr>\n",
       "    <tr>\n",
       "      <th>windGustTime</th>\n",
       "      <td>693071.0</td>\n",
       "      <td>1.544049e+09</td>\n",
       "      <td>692824.402315</td>\n",
       "      <td>1.543151e+09</td>\n",
       "      <td>1.543432e+09</td>\n",
       "      <td>1.543756e+09</td>\n",
       "      <td>1.544846e+09</td>\n",
       "      <td>1.545127e+09</td>\n",
       "    </tr>\n",
       "    <tr>\n",
       "      <th>visibility</th>\n",
       "      <td>693071.0</td>\n",
       "      <td>8.467970e+00</td>\n",
       "      <td>2.602888</td>\n",
       "      <td>7.170000e-01</td>\n",
       "      <td>8.432000e+00</td>\n",
       "      <td>9.880000e+00</td>\n",
       "      <td>9.996000e+00</td>\n",
       "      <td>1.000000e+01</td>\n",
       "    </tr>\n",
       "    <tr>\n",
       "      <th>temperatureHigh</th>\n",
       "      <td>693071.0</td>\n",
       "      <td>4.504098e+01</td>\n",
       "      <td>5.996541</td>\n",
       "      <td>3.268000e+01</td>\n",
       "      <td>4.257000e+01</td>\n",
       "      <td>4.468000e+01</td>\n",
       "      <td>4.691000e+01</td>\n",
       "      <td>5.787000e+01</td>\n",
       "    </tr>\n",
       "    <tr>\n",
       "      <th>temperatureHighTime</th>\n",
       "      <td>693071.0</td>\n",
       "      <td>1.544050e+09</td>\n",
       "      <td>693792.107470</td>\n",
       "      <td>1.543154e+09</td>\n",
       "      <td>1.543439e+09</td>\n",
       "      <td>1.543788e+09</td>\n",
       "      <td>1.544814e+09</td>\n",
       "      <td>1.545160e+09</td>\n",
       "    </tr>\n",
       "    <tr>\n",
       "      <th>temperatureLow</th>\n",
       "      <td>693071.0</td>\n",
       "      <td>3.415074e+01</td>\n",
       "      <td>6.383163</td>\n",
       "      <td>1.785000e+01</td>\n",
       "      <td>3.017000e+01</td>\n",
       "      <td>3.418000e+01</td>\n",
       "      <td>3.873000e+01</td>\n",
       "      <td>4.660000e+01</td>\n",
       "    </tr>\n",
       "    <tr>\n",
       "      <th>temperatureLowTime</th>\n",
       "      <td>693071.0</td>\n",
       "      <td>1.544102e+09</td>\n",
       "      <td>692292.331984</td>\n",
       "      <td>1.543234e+09</td>\n",
       "      <td>1.543489e+09</td>\n",
       "      <td>1.543817e+09</td>\n",
       "      <td>1.544836e+09</td>\n",
       "      <td>1.545221e+09</td>\n",
       "    </tr>\n",
       "    <tr>\n",
       "      <th>apparentTemperatureHigh</th>\n",
       "      <td>693071.0</td>\n",
       "      <td>4.161405e+01</td>\n",
       "      <td>7.666138</td>\n",
       "      <td>2.262000e+01</td>\n",
       "      <td>3.657000e+01</td>\n",
       "      <td>4.095000e+01</td>\n",
       "      <td>4.412000e+01</td>\n",
       "      <td>5.720000e+01</td>\n",
       "    </tr>\n",
       "    <tr>\n",
       "      <th>apparentTemperatureHighTime</th>\n",
       "      <td>693071.0</td>\n",
       "      <td>1.544050e+09</td>\n",
       "      <td>694169.873815</td>\n",
       "      <td>1.543187e+09</td>\n",
       "      <td>1.543439e+09</td>\n",
       "      <td>1.543788e+09</td>\n",
       "      <td>1.544818e+09</td>\n",
       "      <td>1.545160e+09</td>\n",
       "    </tr>\n",
       "    <tr>\n",
       "      <th>apparentTemperatureLow</th>\n",
       "      <td>693071.0</td>\n",
       "      <td>3.013982e+01</td>\n",
       "      <td>8.057468</td>\n",
       "      <td>1.181000e+01</td>\n",
       "      <td>2.770000e+01</td>\n",
       "      <td>3.003000e+01</td>\n",
       "      <td>3.532000e+01</td>\n",
       "      <td>4.725000e+01</td>\n",
       "    </tr>\n",
       "    <tr>\n",
       "      <th>apparentTemperatureLowTime</th>\n",
       "      <td>693071.0</td>\n",
       "      <td>1.544099e+09</td>\n",
       "      <td>692737.825155</td>\n",
       "      <td>1.543234e+09</td>\n",
       "      <td>1.543478e+09</td>\n",
       "      <td>1.543817e+09</td>\n",
       "      <td>1.544836e+09</td>\n",
       "      <td>1.545199e+09</td>\n",
       "    </tr>\n",
       "    <tr>\n",
       "      <th>dewPoint</th>\n",
       "      <td>693071.0</td>\n",
       "      <td>3.165626e+01</td>\n",
       "      <td>9.142355</td>\n",
       "      <td>4.390000e+00</td>\n",
       "      <td>2.749000e+01</td>\n",
       "      <td>3.069000e+01</td>\n",
       "      <td>3.812000e+01</td>\n",
       "      <td>5.067000e+01</td>\n",
       "    </tr>\n",
       "    <tr>\n",
       "      <th>pressure</th>\n",
       "      <td>693071.0</td>\n",
       "      <td>1.010095e+03</td>\n",
       "      <td>13.472899</td>\n",
       "      <td>9.880900e+02</td>\n",
       "      <td>9.998200e+02</td>\n",
       "      <td>1.009250e+03</td>\n",
       "      <td>1.021860e+03</td>\n",
       "      <td>1.035550e+03</td>\n",
       "    </tr>\n",
       "    <tr>\n",
       "      <th>windBearing</th>\n",
       "      <td>693071.0</td>\n",
       "      <td>2.200559e+02</td>\n",
       "      <td>99.102736</td>\n",
       "      <td>2.000000e+00</td>\n",
       "      <td>1.240000e+02</td>\n",
       "      <td>2.580000e+02</td>\n",
       "      <td>3.030000e+02</td>\n",
       "      <td>3.560000e+02</td>\n",
       "    </tr>\n",
       "    <tr>\n",
       "      <th>cloudCover</th>\n",
       "      <td>693071.0</td>\n",
       "      <td>6.865020e-01</td>\n",
       "      <td>0.358534</td>\n",
       "      <td>0.000000e+00</td>\n",
       "      <td>3.700000e-01</td>\n",
       "      <td>8.200000e-01</td>\n",
       "      <td>1.000000e+00</td>\n",
       "      <td>1.000000e+00</td>\n",
       "    </tr>\n",
       "    <tr>\n",
       "      <th>uvIndex</th>\n",
       "      <td>693071.0</td>\n",
       "      <td>2.489081e-01</td>\n",
       "      <td>0.474097</td>\n",
       "      <td>0.000000e+00</td>\n",
       "      <td>0.000000e+00</td>\n",
       "      <td>0.000000e+00</td>\n",
       "      <td>0.000000e+00</td>\n",
       "      <td>2.000000e+00</td>\n",
       "    </tr>\n",
       "    <tr>\n",
       "      <th>visibility.1</th>\n",
       "      <td>693071.0</td>\n",
       "      <td>8.467970e+00</td>\n",
       "      <td>2.602888</td>\n",
       "      <td>7.170000e-01</td>\n",
       "      <td>8.432000e+00</td>\n",
       "      <td>9.880000e+00</td>\n",
       "      <td>9.996000e+00</td>\n",
       "      <td>1.000000e+01</td>\n",
       "    </tr>\n",
       "    <tr>\n",
       "      <th>ozone</th>\n",
       "      <td>693071.0</td>\n",
       "      <td>3.135136e+02</td>\n",
       "      <td>27.953061</td>\n",
       "      <td>2.694000e+02</td>\n",
       "      <td>2.909000e+02</td>\n",
       "      <td>3.074000e+02</td>\n",
       "      <td>3.318000e+02</td>\n",
       "      <td>3.789000e+02</td>\n",
       "    </tr>\n",
       "    <tr>\n",
       "      <th>sunriseTime</th>\n",
       "      <td>693071.0</td>\n",
       "      <td>1.544027e+09</td>\n",
       "      <td>691139.271721</td>\n",
       "      <td>1.543147e+09</td>\n",
       "      <td>1.543406e+09</td>\n",
       "      <td>1.543752e+09</td>\n",
       "      <td>1.544789e+09</td>\n",
       "      <td>1.545135e+09</td>\n",
       "    </tr>\n",
       "    <tr>\n",
       "      <th>sunsetTime</th>\n",
       "      <td>693071.0</td>\n",
       "      <td>1.544060e+09</td>\n",
       "      <td>690663.392963</td>\n",
       "      <td>1.543181e+09</td>\n",
       "      <td>1.543440e+09</td>\n",
       "      <td>1.543785e+09</td>\n",
       "      <td>1.544822e+09</td>\n",
       "      <td>1.545168e+09</td>\n",
       "    </tr>\n",
       "    <tr>\n",
       "      <th>moonPhase</th>\n",
       "      <td>693071.0</td>\n",
       "      <td>5.790655e-01</td>\n",
       "      <td>0.244705</td>\n",
       "      <td>9.000000e-02</td>\n",
       "      <td>3.000000e-01</td>\n",
       "      <td>6.800000e-01</td>\n",
       "      <td>7.900000e-01</td>\n",
       "      <td>9.300000e-01</td>\n",
       "    </tr>\n",
       "    <tr>\n",
       "      <th>precipIntensityMax</th>\n",
       "      <td>693071.0</td>\n",
       "      <td>3.737441e-02</td>\n",
       "      <td>0.055214</td>\n",
       "      <td>0.000000e+00</td>\n",
       "      <td>0.000000e+00</td>\n",
       "      <td>4.000000e-04</td>\n",
       "      <td>9.160000e-02</td>\n",
       "      <td>1.459000e-01</td>\n",
       "    </tr>\n",
       "    <tr>\n",
       "      <th>uvIndexTime</th>\n",
       "      <td>693071.0</td>\n",
       "      <td>1.544044e+09</td>\n",
       "      <td>691202.767272</td>\n",
       "      <td>1.543162e+09</td>\n",
       "      <td>1.543421e+09</td>\n",
       "      <td>1.543770e+09</td>\n",
       "      <td>1.544807e+09</td>\n",
       "      <td>1.545152e+09</td>\n",
       "    </tr>\n",
       "    <tr>\n",
       "      <th>temperatureMin</th>\n",
       "      <td>693071.0</td>\n",
       "      <td>3.345777e+01</td>\n",
       "      <td>6.467224</td>\n",
       "      <td>1.563000e+01</td>\n",
       "      <td>3.017000e+01</td>\n",
       "      <td>3.424000e+01</td>\n",
       "      <td>3.888000e+01</td>\n",
       "      <td>4.310000e+01</td>\n",
       "    </tr>\n",
       "    <tr>\n",
       "      <th>temperatureMinTime</th>\n",
       "      <td>693071.0</td>\n",
       "      <td>1.544042e+09</td>\n",
       "      <td>690195.441408</td>\n",
       "      <td>1.543122e+09</td>\n",
       "      <td>1.543399e+09</td>\n",
       "      <td>1.543727e+09</td>\n",
       "      <td>1.544789e+09</td>\n",
       "      <td>1.545192e+09</td>\n",
       "    </tr>\n",
       "    <tr>\n",
       "      <th>temperatureMax</th>\n",
       "      <td>693071.0</td>\n",
       "      <td>4.526131e+01</td>\n",
       "      <td>5.645046</td>\n",
       "      <td>3.351000e+01</td>\n",
       "      <td>4.257000e+01</td>\n",
       "      <td>4.468000e+01</td>\n",
       "      <td>4.691000e+01</td>\n",
       "      <td>5.787000e+01</td>\n",
       "    </tr>\n",
       "    <tr>\n",
       "      <th>temperatureMaxTime</th>\n",
       "      <td>693071.0</td>\n",
       "      <td>1.544047e+09</td>\n",
       "      <td>690135.337190</td>\n",
       "      <td>1.543154e+09</td>\n",
       "      <td>1.543439e+09</td>\n",
       "      <td>1.543788e+09</td>\n",
       "      <td>1.544814e+09</td>\n",
       "      <td>1.545109e+09</td>\n",
       "    </tr>\n",
       "    <tr>\n",
       "      <th>apparentTemperatureMin</th>\n",
       "      <td>693071.0</td>\n",
       "      <td>2.973100e+01</td>\n",
       "      <td>7.110494</td>\n",
       "      <td>1.181000e+01</td>\n",
       "      <td>2.776000e+01</td>\n",
       "      <td>3.013000e+01</td>\n",
       "      <td>3.571000e+01</td>\n",
       "      <td>4.005000e+01</td>\n",
       "    </tr>\n",
       "    <tr>\n",
       "      <th>apparentTemperatureMinTime</th>\n",
       "      <td>693071.0</td>\n",
       "      <td>1.544048e+09</td>\n",
       "      <td>687186.191494</td>\n",
       "      <td>1.543136e+09</td>\n",
       "      <td>1.543399e+09</td>\n",
       "      <td>1.543745e+09</td>\n",
       "      <td>1.544789e+09</td>\n",
       "      <td>1.545134e+09</td>\n",
       "    </tr>\n",
       "    <tr>\n",
       "      <th>apparentTemperatureMax</th>\n",
       "      <td>693071.0</td>\n",
       "      <td>4.199734e+01</td>\n",
       "      <td>6.936841</td>\n",
       "      <td>2.895000e+01</td>\n",
       "      <td>3.657000e+01</td>\n",
       "      <td>4.095000e+01</td>\n",
       "      <td>4.412000e+01</td>\n",
       "      <td>5.720000e+01</td>\n",
       "    </tr>\n",
       "    <tr>\n",
       "      <th>apparentTemperatureMaxTime</th>\n",
       "      <td>693071.0</td>\n",
       "      <td>1.544048e+09</td>\n",
       "      <td>691077.651975</td>\n",
       "      <td>1.543187e+09</td>\n",
       "      <td>1.543439e+09</td>\n",
       "      <td>1.543788e+09</td>\n",
       "      <td>1.544818e+09</td>\n",
       "      <td>1.545109e+09</td>\n",
       "    </tr>\n",
       "  </tbody>\n",
       "</table>\n",
       "</div>"
      ],
      "text/plain": [
       "                                count          mean            std  \\\n",
       "timestamp                    693071.0  1.544046e+09  689192.492586   \n",
       "hour                         693071.0  1.161914e+01       6.948114   \n",
       "day                          693071.0  1.779436e+01       9.982286   \n",
       "month                        693071.0  1.158668e+01       0.492429   \n",
       "price                        637976.0  1.654513e+01       9.324359   \n",
       "distance                     693071.0  2.189430e+00       1.138937   \n",
       "surge_multiplier             693071.0  1.013870e+00       0.091641   \n",
       "latitude                     693071.0  4.233817e+01       0.047840   \n",
       "longitude                    693071.0 -7.106615e+01       0.020302   \n",
       "temperature                  693071.0  3.958439e+01       6.726084   \n",
       "apparentTemperature          693071.0  3.588122e+01       7.918707   \n",
       "precipIntensity              693071.0  8.922153e-03       0.026901   \n",
       "precipProbability            693071.0  1.460758e-01       0.328938   \n",
       "humidity                     693071.0  7.411187e-01       0.138595   \n",
       "windSpeed                    693071.0  6.186253e+00       3.148223   \n",
       "windGust                     693071.0  8.469860e+00       5.289179   \n",
       "windGustTime                 693071.0  1.544049e+09  692824.402315   \n",
       "visibility                   693071.0  8.467970e+00       2.602888   \n",
       "temperatureHigh              693071.0  4.504098e+01       5.996541   \n",
       "temperatureHighTime          693071.0  1.544050e+09  693792.107470   \n",
       "temperatureLow               693071.0  3.415074e+01       6.383163   \n",
       "temperatureLowTime           693071.0  1.544102e+09  692292.331984   \n",
       "apparentTemperatureHigh      693071.0  4.161405e+01       7.666138   \n",
       "apparentTemperatureHighTime  693071.0  1.544050e+09  694169.873815   \n",
       "apparentTemperatureLow       693071.0  3.013982e+01       8.057468   \n",
       "apparentTemperatureLowTime   693071.0  1.544099e+09  692737.825155   \n",
       "dewPoint                     693071.0  3.165626e+01       9.142355   \n",
       "pressure                     693071.0  1.010095e+03      13.472899   \n",
       "windBearing                  693071.0  2.200559e+02      99.102736   \n",
       "cloudCover                   693071.0  6.865020e-01       0.358534   \n",
       "uvIndex                      693071.0  2.489081e-01       0.474097   \n",
       "visibility.1                 693071.0  8.467970e+00       2.602888   \n",
       "ozone                        693071.0  3.135136e+02      27.953061   \n",
       "sunriseTime                  693071.0  1.544027e+09  691139.271721   \n",
       "sunsetTime                   693071.0  1.544060e+09  690663.392963   \n",
       "moonPhase                    693071.0  5.790655e-01       0.244705   \n",
       "precipIntensityMax           693071.0  3.737441e-02       0.055214   \n",
       "uvIndexTime                  693071.0  1.544044e+09  691202.767272   \n",
       "temperatureMin               693071.0  3.345777e+01       6.467224   \n",
       "temperatureMinTime           693071.0  1.544042e+09  690195.441408   \n",
       "temperatureMax               693071.0  4.526131e+01       5.645046   \n",
       "temperatureMaxTime           693071.0  1.544047e+09  690135.337190   \n",
       "apparentTemperatureMin       693071.0  2.973100e+01       7.110494   \n",
       "apparentTemperatureMinTime   693071.0  1.544048e+09  687186.191494   \n",
       "apparentTemperatureMax       693071.0  4.199734e+01       6.936841   \n",
       "apparentTemperatureMaxTime   693071.0  1.544048e+09  691077.651975   \n",
       "\n",
       "                                      min           25%           50%  \\\n",
       "timestamp                    1.543204e+09  1.543444e+09  1.543737e+09   \n",
       "hour                         0.000000e+00  6.000000e+00  1.200000e+01   \n",
       "day                          1.000000e+00  1.300000e+01  1.700000e+01   \n",
       "month                        1.100000e+01  1.100000e+01  1.200000e+01   \n",
       "price                        2.500000e+00  9.000000e+00  1.350000e+01   \n",
       "distance                     2.000000e-02  1.280000e+00  2.160000e+00   \n",
       "surge_multiplier             1.000000e+00  1.000000e+00  1.000000e+00   \n",
       "latitude                     4.221480e+01  4.235030e+01  4.235190e+01   \n",
       "longitude                   -7.110540e+01 -7.108100e+01 -7.106310e+01   \n",
       "temperature                  1.891000e+01  3.645000e+01  4.049000e+01   \n",
       "apparentTemperature          1.213000e+01  3.191000e+01  3.590000e+01   \n",
       "precipIntensity              0.000000e+00  0.000000e+00  0.000000e+00   \n",
       "precipProbability            0.000000e+00  0.000000e+00  0.000000e+00   \n",
       "humidity                     3.800000e-01  6.400000e-01  7.100000e-01   \n",
       "windSpeed                    4.500000e-01  3.410000e+00  5.910000e+00   \n",
       "windGust                     8.000000e-01  4.060000e+00  7.550000e+00   \n",
       "windGustTime                 1.543151e+09  1.543432e+09  1.543756e+09   \n",
       "visibility                   7.170000e-01  8.432000e+00  9.880000e+00   \n",
       "temperatureHigh              3.268000e+01  4.257000e+01  4.468000e+01   \n",
       "temperatureHighTime          1.543154e+09  1.543439e+09  1.543788e+09   \n",
       "temperatureLow               1.785000e+01  3.017000e+01  3.418000e+01   \n",
       "temperatureLowTime           1.543234e+09  1.543489e+09  1.543817e+09   \n",
       "apparentTemperatureHigh      2.262000e+01  3.657000e+01  4.095000e+01   \n",
       "apparentTemperatureHighTime  1.543187e+09  1.543439e+09  1.543788e+09   \n",
       "apparentTemperatureLow       1.181000e+01  2.770000e+01  3.003000e+01   \n",
       "apparentTemperatureLowTime   1.543234e+09  1.543478e+09  1.543817e+09   \n",
       "dewPoint                     4.390000e+00  2.749000e+01  3.069000e+01   \n",
       "pressure                     9.880900e+02  9.998200e+02  1.009250e+03   \n",
       "windBearing                  2.000000e+00  1.240000e+02  2.580000e+02   \n",
       "cloudCover                   0.000000e+00  3.700000e-01  8.200000e-01   \n",
       "uvIndex                      0.000000e+00  0.000000e+00  0.000000e+00   \n",
       "visibility.1                 7.170000e-01  8.432000e+00  9.880000e+00   \n",
       "ozone                        2.694000e+02  2.909000e+02  3.074000e+02   \n",
       "sunriseTime                  1.543147e+09  1.543406e+09  1.543752e+09   \n",
       "sunsetTime                   1.543181e+09  1.543440e+09  1.543785e+09   \n",
       "moonPhase                    9.000000e-02  3.000000e-01  6.800000e-01   \n",
       "precipIntensityMax           0.000000e+00  0.000000e+00  4.000000e-04   \n",
       "uvIndexTime                  1.543162e+09  1.543421e+09  1.543770e+09   \n",
       "temperatureMin               1.563000e+01  3.017000e+01  3.424000e+01   \n",
       "temperatureMinTime           1.543122e+09  1.543399e+09  1.543727e+09   \n",
       "temperatureMax               3.351000e+01  4.257000e+01  4.468000e+01   \n",
       "temperatureMaxTime           1.543154e+09  1.543439e+09  1.543788e+09   \n",
       "apparentTemperatureMin       1.181000e+01  2.776000e+01  3.013000e+01   \n",
       "apparentTemperatureMinTime   1.543136e+09  1.543399e+09  1.543745e+09   \n",
       "apparentTemperatureMax       2.895000e+01  3.657000e+01  4.095000e+01   \n",
       "apparentTemperatureMaxTime   1.543187e+09  1.543439e+09  1.543788e+09   \n",
       "\n",
       "                                      75%           max  \n",
       "timestamp                    1.544828e+09  1.545161e+09  \n",
       "hour                         1.800000e+01  2.300000e+01  \n",
       "day                          2.800000e+01  3.000000e+01  \n",
       "month                        1.200000e+01  1.200000e+01  \n",
       "price                        2.250000e+01  9.750000e+01  \n",
       "distance                     2.920000e+00  7.860000e+00  \n",
       "surge_multiplier             1.000000e+00  3.000000e+00  \n",
       "latitude                     4.236470e+01  4.236610e+01  \n",
       "longitude                   -7.105420e+01 -7.103300e+01  \n",
       "temperature                  4.358000e+01  5.722000e+01  \n",
       "apparentTemperature          4.008000e+01  5.722000e+01  \n",
       "precipIntensity              0.000000e+00  1.447000e-01  \n",
       "precipProbability            0.000000e+00  1.000000e+00  \n",
       "humidity                     8.800000e-01  9.600000e-01  \n",
       "windSpeed                    8.410000e+00  1.500000e+01  \n",
       "windGust                     1.174000e+01  2.725000e+01  \n",
       "windGustTime                 1.544846e+09  1.545127e+09  \n",
       "visibility                   9.996000e+00  1.000000e+01  \n",
       "temperatureHigh              4.691000e+01  5.787000e+01  \n",
       "temperatureHighTime          1.544814e+09  1.545160e+09  \n",
       "temperatureLow               3.873000e+01  4.660000e+01  \n",
       "temperatureLowTime           1.544836e+09  1.545221e+09  \n",
       "apparentTemperatureHigh      4.412000e+01  5.720000e+01  \n",
       "apparentTemperatureHighTime  1.544818e+09  1.545160e+09  \n",
       "apparentTemperatureLow       3.532000e+01  4.725000e+01  \n",
       "apparentTemperatureLowTime   1.544836e+09  1.545199e+09  \n",
       "dewPoint                     3.812000e+01  5.067000e+01  \n",
       "pressure                     1.021860e+03  1.035550e+03  \n",
       "windBearing                  3.030000e+02  3.560000e+02  \n",
       "cloudCover                   1.000000e+00  1.000000e+00  \n",
       "uvIndex                      0.000000e+00  2.000000e+00  \n",
       "visibility.1                 9.996000e+00  1.000000e+01  \n",
       "ozone                        3.318000e+02  3.789000e+02  \n",
       "sunriseTime                  1.544789e+09  1.545135e+09  \n",
       "sunsetTime                   1.544822e+09  1.545168e+09  \n",
       "moonPhase                    7.900000e-01  9.300000e-01  \n",
       "precipIntensityMax           9.160000e-02  1.459000e-01  \n",
       "uvIndexTime                  1.544807e+09  1.545152e+09  \n",
       "temperatureMin               3.888000e+01  4.310000e+01  \n",
       "temperatureMinTime           1.544789e+09  1.545192e+09  \n",
       "temperatureMax               4.691000e+01  5.787000e+01  \n",
       "temperatureMaxTime           1.544814e+09  1.545109e+09  \n",
       "apparentTemperatureMin       3.571000e+01  4.005000e+01  \n",
       "apparentTemperatureMinTime   1.544789e+09  1.545134e+09  \n",
       "apparentTemperatureMax       4.412000e+01  5.720000e+01  \n",
       "apparentTemperatureMaxTime   1.544818e+09  1.545109e+09  "
      ]
     },
     "execution_count": 17,
     "metadata": {},
     "output_type": "execute_result"
    }
   ],
   "source": [
    "data.describe().T"
   ]
  },
  {
   "cell_type": "code",
   "execution_count": null,
   "metadata": {},
   "outputs": [
    {
     "data": {
      "text/plain": [
       "0"
      ]
     },
     "execution_count": 18,
     "metadata": {},
     "output_type": "execute_result"
    }
   ],
   "source": [
    "data.duplicated().sum()"
   ]
  },
  {
   "cell_type": "code",
   "execution_count": null,
   "metadata": {},
   "outputs": [
    {
     "data": {
      "text/plain": [
       "array(['Shared', 'Lux', 'Lyft', 'Lux Black XL', 'Lyft XL', 'Lux Black',\n",
       "       'UberXL', 'Black', 'UberX', 'WAV', 'Black SUV', 'UberPool', 'Taxi'],\n",
       "      dtype=object)"
      ]
     },
     "execution_count": 19,
     "metadata": {},
     "output_type": "execute_result"
    }
   ],
   "source": [
    "data.name.unique()"
   ]
  },
  {
   "cell_type": "code",
   "execution_count": null,
   "metadata": {},
   "outputs": [
    {
     "data": {
      "text/plain": [
       "array(['lyft_line', 'lyft_premier', 'lyft', 'lyft_luxsuv', 'lyft_plus',\n",
       "       'lyft_lux', '6f72dfc5-27f1-42e8-84db-ccc7a75f6969',\n",
       "       '6c84fd89-3f11-4782-9b50-97c468b19529',\n",
       "       '55c66225-fbe7-4fd5-9072-eab1ece5e23e',\n",
       "       '9a0e7b09-b92b-4c41-9779-2ad22b4d779d',\n",
       "       '6d318bcc-22a3-4af6-bddd-b409bfce1546',\n",
       "       '997acbb5-e102-41e1-b155-9df7de0a73f2',\n",
       "       '8cf7e821-f0d3-49c6-8eba-e679c0ebcf6a'], dtype=object)"
      ]
     },
     "execution_count": 20,
     "metadata": {},
     "output_type": "execute_result"
    }
   ],
   "source": [
    "data.product_id.unique()"
   ]
  },
  {
   "cell_type": "markdown",
   "metadata": {},
   "source": [
    "## Exploratory Data Analysis (EDA)"
   ]
  },
  {
   "cell_type": "code",
   "execution_count": null,
   "metadata": {},
   "outputs": [
    {
     "data": {
      "text/plain": [
       "(693071, 57)"
      ]
     },
     "execution_count": 21,
     "metadata": {},
     "output_type": "execute_result"
    }
   ],
   "source": [
    "data.shape"
   ]
  },
  {
   "cell_type": "code",
   "execution_count": null,
   "metadata": {},
   "outputs": [
    {
     "data": {
      "text/plain": [
       "id                              object\n",
       "timestamp                      float64\n",
       "hour                             int64\n",
       "day                              int64\n",
       "month                            int64\n",
       "datetime                        object\n",
       "timezone                        object\n",
       "source                          object\n",
       "destination                     object\n",
       "cab_type                        object\n",
       "product_id                      object\n",
       "name                            object\n",
       "price                          float64\n",
       "distance                       float64\n",
       "surge_multiplier               float64\n",
       "latitude                       float64\n",
       "longitude                      float64\n",
       "temperature                    float64\n",
       "apparentTemperature            float64\n",
       "short_summary                   object\n",
       "long_summary                    object\n",
       "precipIntensity                float64\n",
       "precipProbability              float64\n",
       "humidity                       float64\n",
       "windSpeed                      float64\n",
       "windGust                       float64\n",
       "windGustTime                     int64\n",
       "visibility                     float64\n",
       "temperatureHigh                float64\n",
       "temperatureHighTime              int64\n",
       "temperatureLow                 float64\n",
       "temperatureLowTime               int64\n",
       "apparentTemperatureHigh        float64\n",
       "apparentTemperatureHighTime      int64\n",
       "apparentTemperatureLow         float64\n",
       "apparentTemperatureLowTime       int64\n",
       "icon                            object\n",
       "dewPoint                       float64\n",
       "pressure                       float64\n",
       "windBearing                      int64\n",
       "cloudCover                     float64\n",
       "uvIndex                          int64\n",
       "visibility.1                   float64\n",
       "ozone                          float64\n",
       "sunriseTime                      int64\n",
       "sunsetTime                       int64\n",
       "moonPhase                      float64\n",
       "precipIntensityMax             float64\n",
       "uvIndexTime                      int64\n",
       "temperatureMin                 float64\n",
       "temperatureMinTime               int64\n",
       "temperatureMax                 float64\n",
       "temperatureMaxTime               int64\n",
       "apparentTemperatureMin         float64\n",
       "apparentTemperatureMinTime       int64\n",
       "apparentTemperatureMax         float64\n",
       "apparentTemperatureMaxTime       int64\n",
       "dtype: object"
      ]
     },
     "execution_count": 22,
     "metadata": {},
     "output_type": "execute_result"
    }
   ],
   "source": [
    "data.dtypes"
   ]
  },
  {
   "cell_type": "markdown",
   "metadata": {},
   "source": [
    "**Perbandingan Total Trip Uber & Lyft**"
   ]
  },
  {
   "cell_type": "code",
   "execution_count": null,
   "metadata": {},
   "outputs": [
    {
     "data": {
      "image/png": "[encoded data removed]",
      "text/plain": [
       "<Figure size 432x288 with 1 Axes>"
      ]
     },
     "metadata": {
      "needs_background": "light"
     },
     "output_type": "display_data"
    }
   ],
   "source": [
    "plt.title('Ride by Uber and Lyft')\n",
    "\n",
    "fig = sns.countplot(x=data['cab_type'])\n",
    "\n",
    "for p in fig.patches:\n",
    "  fig.annotate(format(p.get_height()), (p.get_x() + p.get_width() / 2., p.get_height()), ha = 'center', va = 'center', xytext = (0, 10), textcoords = 'offset points')\n",
    "\n",
    "plt.show()"
   ]
  },
  {
   "cell_type": "markdown",
   "metadata": {},
   "source": [
    "Seperti yang bisa dilihat, Uber memiliki total perjalanan yang sedikit lebih banyak daripada Lyft. Uber memiliki 330.568 perjalanan dan Lyft memiliki 307.408 perjalanan"
   ]
  },
  {
   "cell_type": "markdown",
   "metadata": {},
   "source": [
    "**Jumlah perjalanan uber dan lyft menurut jenis layanan**"
   ]
  },
  {
   "cell_type": "code",
   "execution_count": null,
   "metadata": {},
   "outputs": [
    {
     "data": {
      "image/png": "[encoded data removed]",
      "text/plain": [
       "<Figure size 1440x576 with 2 Axes>"
      ]
     },
     "metadata": {
      "needs_background": "light"
     },
     "output_type": "display_data"
    }
   ],
   "source": [
    "# The Average price of rides by type of service\n",
    "\n",
    "uber_order =[ 'UberPool', 'UberX', 'UberXL', 'Black','Black SUV','WAV' ]\n",
    "lyft_order = ['Shared', 'Lyft', 'Lyft XL', 'Lux', 'Lux Black', 'Lux Black XL']\n",
    "\n",
    "fig, ax = plt.subplots(1,2, figsize = (20,8))\n",
    "\n",
    "ax1 = sns.barplot(x = data[data['cab_type'] == 'Uber'].groupby('name').name.count().index, y = data[data['cab_type'] == 'Uber'].groupby('name').name.count(), ax = ax[0] ,order = uber_order)\n",
    "ax2 = sns.barplot(x = data[data['cab_type'] == 'Lyft'].groupby('name').name.count().index, y = data[data['cab_type'] == 'Lyft'].groupby('name').name.count(), ax = ax[1],order = lyft_order)\n",
    "\n",
    "for p in ax1.patches:\n",
    "    ax1.annotate(format(p.get_height(), '.0f'), (p.get_x() + p.get_width() / 2., p.get_height()), ha = 'center', va = 'center', xytext = (0, 10), textcoords = 'offset points')\n",
    "for p in ax2.patches:\n",
    "    ax2.annotate(format(p.get_height(), '.0f'), (p.get_x() + p.get_width() / 2., p.get_height()), ha = 'center', va = 'center', xytext = (0, 10), textcoords = 'offset points')\n",
    "\n",
    "ax1.set(xlabel = 'Type of Service', ylabel = 'Number of Rides')\n",
    "ax2.set(xlabel = 'Type of Service', ylabel = 'Number of Rides')\n",
    "ax1.set_title('The Number of Uber Rides by Type of Service')\n",
    "ax2.set_title('The Number of Lyft Rides by Type of Service')\n",
    "\n",
    "plt.show()"
   ]
  },
  {
   "cell_type": "markdown",
   "metadata": {},
   "source": [
    "Dari grafik tersebut, pengguna Uber dan Lyft cenderung menggunakan semua jenis layanan yang ditawarkan oleh kedua perusahaan. Jumlah perjalanan oleh semua layanan memiliki jumlah yang hampir sama."
   ]
  },
  {
   "cell_type": "code",
   "execution_count": null,
   "metadata": {},
   "outputs": [
    {
     "data": {
      "image/png": "[encoded data removed]",
      "text/plain": [
       "<Figure size 1440x576 with 2 Axes>"
      ]
     },
     "metadata": {
      "needs_background": "light"
     },
     "output_type": "display_data"
    }
   ],
   "source": [
    "fig, ax = plt.subplots(1,2, figsize = (20,8))\n",
    "\n",
    "ax1 = sns.barplot(x = data[data['cab_type'] == 'Uber'].name, y = data[data['cab_type'] == 'Uber'].price , ax = ax[0], order = uber_order)\n",
    "ax2 = sns.barplot(x = data[data['cab_type'] == 'Lyft'].name, y = data[data['cab_type'] == 'Lyft'].price , ax = ax[1], order = lyft_order)\n",
    "\n",
    "for p in ax1.patches:\n",
    "    ax1.annotate(format(p.get_height(), '.2f'), (p.get_x() + p.get_width() / 2., p.get_height()), ha = 'center', va = 'center', xytext = (0, 10), textcoords = 'offset points')\n",
    "for p in ax2.patches:\n",
    "    ax2.annotate(format(p.get_height(), '.2f'), (p.get_x() + p.get_width() / 2., p.get_height()), ha = 'center', va = 'center', xytext = (0, 10), textcoords = 'offset points')\n",
    "\n",
    "ax1.set(xlabel = 'Type of Service', ylabel = 'Average Price')\n",
    "ax2.set(xlabel = 'Type of Service', ylabel = 'Average Price')\n",
    "\n",
    "ax1.set_title('The Uber Average Prices by Type of Service')\n",
    "ax2.set_title('The Lyft Average Prices by Type of Service')\n",
    "\n",
    "plt.show()"
   ]
  },
  {
   "cell_type": "markdown",
   "metadata": {},
   "source": [
    "Bisa kita lihat dari Uber, layanan yang paling mahal adalah Black SUV dan yang termurah adalah UberPool. Sedangkan layanan yang paling mahal dari Lyft adalah Lux Black XL dan yang termurah adalah Shared."
   ]
  },
  {
   "cell_type": "code",
   "execution_count": null,
   "metadata": {},
   "outputs": [
    {
     "data": {
      "text/plain": [
       "<AxesSubplot:>"
      ]
     },
     "execution_count": 26,
     "metadata": {},
     "output_type": "execute_result"
    },
    {
     "data": {
      "image/png": "[encoded data removed]",
      "text/plain": [
       "<Figure size 432x288 with 2 Axes>"
      ]
     },
     "metadata": {
      "needs_background": "light"
     },
     "output_type": "display_data"
    }
   ],
   "source": [
    "sns.heatmap(data.corr(), cmap = 'magma')"
   ]
  },
  {
   "cell_type": "markdown",
   "metadata": {},
   "source": [
    "Ini adalah korelasi dari semua fitur dari dataset. Hasilnya bervariasi dan kita tidak dapat melihatnya dengan jelas. Mari kita periksa korelasi masing-masing fitur berdasarkan fitur harga."
   ]
  },
  {
   "cell_type": "code",
   "execution_count": null,
   "metadata": {},
   "outputs": [
    {
     "name": "stdout",
     "output_type": "stream",
     "text": [
      "price                          1.000000\n",
      "distance                       0.345061\n",
      "surge_multiplier               0.240458\n",
      "latitude                       0.002088\n",
      "visibility.1                   0.001497\n",
      "visibility                     0.001497\n",
      "windGust                       0.001218\n",
      "precipIntensityMax             0.001114\n",
      "windSpeed                      0.000990\n",
      "month                          0.000913\n",
      "cloudCover                     0.000883\n",
      "pressure                       0.000866\n",
      "windGustTime                   0.000851\n",
      "apparentTemperatureLow         0.000831\n",
      "apparentTemperatureMinTime     0.000814\n",
      "timestamp                      0.000808\n",
      "temperatureMinTime             0.000769\n",
      "temperatureMaxTime             0.000766\n",
      "uvIndexTime                    0.000763\n",
      "apparentTemperatureLowTime     0.000761\n",
      "sunsetTime                     0.000760\n",
      "sunriseTime                    0.000760\n",
      "temperatureHighTime            0.000759\n",
      "temperatureLowTime             0.000754\n",
      "apparentTemperatureMaxTime     0.000746\n",
      "apparentTemperatureHighTime    0.000741\n",
      "hour                           0.000561\n",
      "ozone                          0.000460\n",
      "temperatureLow                 0.000182\n",
      "precipIntensity                0.000166\n",
      "temperature                   -0.000084\n",
      "apparentTemperature           -0.000193\n",
      "precipProbability             -0.000243\n",
      "apparentTemperatureHigh       -0.000261\n",
      "apparentTemperatureMax        -0.000290\n",
      "uvIndex                       -0.000424\n",
      "temperatureMin                -0.000428\n",
      "temperatureHigh               -0.000516\n",
      "temperatureMax                -0.000550\n",
      "apparentTemperatureMin        -0.000580\n",
      "dewPoint                      -0.000615\n",
      "day                           -0.000722\n",
      "humidity                      -0.001238\n",
      "windBearing                   -0.001382\n",
      "longitude                     -0.001417\n",
      "moonPhase                     -0.001602\n",
      "Name: price, dtype: float64 \n",
      "\n"
     ]
    }
   ],
   "source": [
    "corr = data.corr()\n",
    "print(corr['price'].sort_values(ascending=False), '\\n')"
   ]
  },
  {
   "cell_type": "markdown",
   "metadata": {},
   "source": [
    "Fitur yang paling berkorelasi dari semua fitur adalah **distance** dan **surge multiplier**. Cukup jelas karena kedua fitur tersebut mempengaruhi nilai **price**."
   ]
  },
  {
   "cell_type": "code",
   "execution_count": null,
   "metadata": {},
   "outputs": [
    {
     "data": {
      "text/plain": [
       "<AxesSubplot:>"
      ]
     },
     "execution_count": 28,
     "metadata": {},
     "output_type": "execute_result"
    },
    {
     "data": {
      "image/png": "[encoded data removed]",
      "text/plain": [
       "<Figure size 432x288 with 2 Axes>"
      ]
     },
     "metadata": {
      "needs_background": "light"
     },
     "output_type": "display_data"
    }
   ],
   "source": [
    "data_corr = data[['distance','price','surge_multiplier','temperature']]\n",
    "sns.heatmap(data_corr.corr())"
   ]
  },
  {
   "cell_type": "markdown",
   "metadata": {},
   "source": [
    "Dari grafik korelasi tersebut dapat disimpulkan bahwa:\n",
    "\n",
    "- **Distance** dan **surge multiplier** tidak berkorelasi\n",
    "- **Price** dan **surge multiplier** berkorelasi lemah\n",
    "- **Price** dan **distance** berkorelasi"
   ]
  },
  {
   "cell_type": "code",
   "execution_count": null,
   "metadata": {},
   "outputs": [
    {
     "data": {
      "text/plain": [
       "1.00    672096\n",
       "1.25     11085\n",
       "1.50      5065\n",
       "1.75      2420\n",
       "2.00      2239\n",
       "2.50       154\n",
       "3.00        12\n",
       "Name: surge_multiplier, dtype: int64"
      ]
     },
     "execution_count": 29,
     "metadata": {},
     "output_type": "execute_result"
    }
   ],
   "source": [
    "data['surge_multiplier'].value_counts()"
   ]
  },
  {
   "cell_type": "markdown",
   "metadata": {},
   "source": [
    "### Check Outlier"
   ]
  },
  {
   "cell_type": "code",
   "execution_count": null,
   "metadata": {},
   "outputs": [
    {
     "data": {
      "text/html": [
       "<div>\n",
       "<style scoped>\n",
       "    .dataframe tbody tr th:only-of-type {\n",
       "        vertical-align: middle;\n",
       "    }\n",
       "\n",
       "    .dataframe tbody tr th {\n",
       "        vertical-align: top;\n",
       "    }\n",
       "\n",
       "    .dataframe thead th {\n",
       "        text-align: right;\n",
       "    }\n",
       "</style>\n",
       "<table border=\"1\" class=\"dataframe\">\n",
       "  <thead>\n",
       "    <tr style=\"text-align: right;\">\n",
       "      <th></th>\n",
       "      <th>timestamp</th>\n",
       "      <th>hour</th>\n",
       "      <th>day</th>\n",
       "      <th>month</th>\n",
       "      <th>price</th>\n",
       "      <th>distance</th>\n",
       "      <th>surge_multiplier</th>\n",
       "      <th>latitude</th>\n",
       "      <th>longitude</th>\n",
       "      <th>temperature</th>\n",
       "      <th>...</th>\n",
       "      <th>precipIntensityMax</th>\n",
       "      <th>uvIndexTime</th>\n",
       "      <th>temperatureMin</th>\n",
       "      <th>temperatureMinTime</th>\n",
       "      <th>temperatureMax</th>\n",
       "      <th>temperatureMaxTime</th>\n",
       "      <th>apparentTemperatureMin</th>\n",
       "      <th>apparentTemperatureMinTime</th>\n",
       "      <th>apparentTemperatureMax</th>\n",
       "      <th>apparentTemperatureMaxTime</th>\n",
       "    </tr>\n",
       "  </thead>\n",
       "  <tbody>\n",
       "    <tr>\n",
       "      <th>0</th>\n",
       "      <td>1.544953e+09</td>\n",
       "      <td>9</td>\n",
       "      <td>16</td>\n",
       "      <td>12</td>\n",
       "      <td>5.0</td>\n",
       "      <td>0.44</td>\n",
       "      <td>1.0</td>\n",
       "      <td>42.2148</td>\n",
       "      <td>-71.0330</td>\n",
       "      <td>42.34</td>\n",
       "      <td>...</td>\n",
       "      <td>0.1276</td>\n",
       "      <td>1544979600</td>\n",
       "      <td>39.89</td>\n",
       "      <td>1545012000</td>\n",
       "      <td>43.68</td>\n",
       "      <td>1544968800</td>\n",
       "      <td>33.73</td>\n",
       "      <td>1545012000</td>\n",
       "      <td>38.07</td>\n",
       "      <td>1544958000</td>\n",
       "    </tr>\n",
       "    <tr>\n",
       "      <th>1</th>\n",
       "      <td>1.543284e+09</td>\n",
       "      <td>2</td>\n",
       "      <td>27</td>\n",
       "      <td>11</td>\n",
       "      <td>11.0</td>\n",
       "      <td>0.44</td>\n",
       "      <td>1.0</td>\n",
       "      <td>42.2148</td>\n",
       "      <td>-71.0330</td>\n",
       "      <td>43.58</td>\n",
       "      <td>...</td>\n",
       "      <td>0.1300</td>\n",
       "      <td>1543251600</td>\n",
       "      <td>40.49</td>\n",
       "      <td>1543233600</td>\n",
       "      <td>47.30</td>\n",
       "      <td>1543251600</td>\n",
       "      <td>36.20</td>\n",
       "      <td>1543291200</td>\n",
       "      <td>43.92</td>\n",
       "      <td>1543251600</td>\n",
       "    </tr>\n",
       "    <tr>\n",
       "      <th>2</th>\n",
       "      <td>1.543367e+09</td>\n",
       "      <td>1</td>\n",
       "      <td>28</td>\n",
       "      <td>11</td>\n",
       "      <td>7.0</td>\n",
       "      <td>0.44</td>\n",
       "      <td>1.0</td>\n",
       "      <td>42.2148</td>\n",
       "      <td>-71.0330</td>\n",
       "      <td>38.33</td>\n",
       "      <td>...</td>\n",
       "      <td>0.1064</td>\n",
       "      <td>1543338000</td>\n",
       "      <td>35.36</td>\n",
       "      <td>1543377600</td>\n",
       "      <td>47.55</td>\n",
       "      <td>1543320000</td>\n",
       "      <td>31.04</td>\n",
       "      <td>1543377600</td>\n",
       "      <td>44.12</td>\n",
       "      <td>1543320000</td>\n",
       "    </tr>\n",
       "    <tr>\n",
       "      <th>3</th>\n",
       "      <td>1.543554e+09</td>\n",
       "      <td>4</td>\n",
       "      <td>30</td>\n",
       "      <td>11</td>\n",
       "      <td>26.0</td>\n",
       "      <td>0.44</td>\n",
       "      <td>1.0</td>\n",
       "      <td>42.2148</td>\n",
       "      <td>-71.0330</td>\n",
       "      <td>34.38</td>\n",
       "      <td>...</td>\n",
       "      <td>0.0000</td>\n",
       "      <td>1543507200</td>\n",
       "      <td>34.67</td>\n",
       "      <td>1543550400</td>\n",
       "      <td>45.03</td>\n",
       "      <td>1543510800</td>\n",
       "      <td>30.30</td>\n",
       "      <td>1543550400</td>\n",
       "      <td>38.53</td>\n",
       "      <td>1543510800</td>\n",
       "    </tr>\n",
       "    <tr>\n",
       "      <th>4</th>\n",
       "      <td>1.543463e+09</td>\n",
       "      <td>3</td>\n",
       "      <td>29</td>\n",
       "      <td>11</td>\n",
       "      <td>9.0</td>\n",
       "      <td>0.44</td>\n",
       "      <td>1.0</td>\n",
       "      <td>42.2148</td>\n",
       "      <td>-71.0330</td>\n",
       "      <td>37.44</td>\n",
       "      <td>...</td>\n",
       "      <td>0.0001</td>\n",
       "      <td>1543420800</td>\n",
       "      <td>33.10</td>\n",
       "      <td>1543402800</td>\n",
       "      <td>42.18</td>\n",
       "      <td>1543420800</td>\n",
       "      <td>29.11</td>\n",
       "      <td>1543392000</td>\n",
       "      <td>35.75</td>\n",
       "      <td>1543420800</td>\n",
       "    </tr>\n",
       "    <tr>\n",
       "      <th>...</th>\n",
       "      <td>...</td>\n",
       "      <td>...</td>\n",
       "      <td>...</td>\n",
       "      <td>...</td>\n",
       "      <td>...</td>\n",
       "      <td>...</td>\n",
       "      <td>...</td>\n",
       "      <td>...</td>\n",
       "      <td>...</td>\n",
       "      <td>...</td>\n",
       "      <td>...</td>\n",
       "      <td>...</td>\n",
       "      <td>...</td>\n",
       "      <td>...</td>\n",
       "      <td>...</td>\n",
       "      <td>...</td>\n",
       "      <td>...</td>\n",
       "      <td>...</td>\n",
       "      <td>...</td>\n",
       "      <td>...</td>\n",
       "      <td>...</td>\n",
       "    </tr>\n",
       "    <tr>\n",
       "      <th>693066</th>\n",
       "      <td>1.543708e+09</td>\n",
       "      <td>23</td>\n",
       "      <td>1</td>\n",
       "      <td>12</td>\n",
       "      <td>13.0</td>\n",
       "      <td>1.00</td>\n",
       "      <td>1.0</td>\n",
       "      <td>42.3519</td>\n",
       "      <td>-71.0643</td>\n",
       "      <td>37.05</td>\n",
       "      <td>...</td>\n",
       "      <td>0.0000</td>\n",
       "      <td>1543683600</td>\n",
       "      <td>31.42</td>\n",
       "      <td>1543658400</td>\n",
       "      <td>44.76</td>\n",
       "      <td>1543690800</td>\n",
       "      <td>27.77</td>\n",
       "      <td>1543658400</td>\n",
       "      <td>44.09</td>\n",
       "      <td>1543690800</td>\n",
       "    </tr>\n",
       "    <tr>\n",
       "      <th>693067</th>\n",
       "      <td>1.543708e+09</td>\n",
       "      <td>23</td>\n",
       "      <td>1</td>\n",
       "      <td>12</td>\n",
       "      <td>9.5</td>\n",
       "      <td>1.00</td>\n",
       "      <td>1.0</td>\n",
       "      <td>42.3519</td>\n",
       "      <td>-71.0643</td>\n",
       "      <td>37.05</td>\n",
       "      <td>...</td>\n",
       "      <td>0.0000</td>\n",
       "      <td>1543683600</td>\n",
       "      <td>31.42</td>\n",
       "      <td>1543658400</td>\n",
       "      <td>44.76</td>\n",
       "      <td>1543690800</td>\n",
       "      <td>27.77</td>\n",
       "      <td>1543658400</td>\n",
       "      <td>44.09</td>\n",
       "      <td>1543690800</td>\n",
       "    </tr>\n",
       "    <tr>\n",
       "      <th>693068</th>\n",
       "      <td>1.543708e+09</td>\n",
       "      <td>23</td>\n",
       "      <td>1</td>\n",
       "      <td>12</td>\n",
       "      <td>NaN</td>\n",
       "      <td>1.00</td>\n",
       "      <td>1.0</td>\n",
       "      <td>42.3519</td>\n",
       "      <td>-71.0643</td>\n",
       "      <td>37.05</td>\n",
       "      <td>...</td>\n",
       "      <td>0.0000</td>\n",
       "      <td>1543683600</td>\n",
       "      <td>31.42</td>\n",
       "      <td>1543658400</td>\n",
       "      <td>44.76</td>\n",
       "      <td>1543690800</td>\n",
       "      <td>27.77</td>\n",
       "      <td>1543658400</td>\n",
       "      <td>44.09</td>\n",
       "      <td>1543690800</td>\n",
       "    </tr>\n",
       "    <tr>\n",
       "      <th>693069</th>\n",
       "      <td>1.543708e+09</td>\n",
       "      <td>23</td>\n",
       "      <td>1</td>\n",
       "      <td>12</td>\n",
       "      <td>27.0</td>\n",
       "      <td>1.00</td>\n",
       "      <td>1.0</td>\n",
       "      <td>42.3519</td>\n",
       "      <td>-71.0643</td>\n",
       "      <td>37.05</td>\n",
       "      <td>...</td>\n",
       "      <td>0.0000</td>\n",
       "      <td>1543683600</td>\n",
       "      <td>31.42</td>\n",
       "      <td>1543658400</td>\n",
       "      <td>44.76</td>\n",
       "      <td>1543690800</td>\n",
       "      <td>27.77</td>\n",
       "      <td>1543658400</td>\n",
       "      <td>44.09</td>\n",
       "      <td>1543690800</td>\n",
       "    </tr>\n",
       "    <tr>\n",
       "      <th>693070</th>\n",
       "      <td>1.543708e+09</td>\n",
       "      <td>23</td>\n",
       "      <td>1</td>\n",
       "      <td>12</td>\n",
       "      <td>10.0</td>\n",
       "      <td>1.00</td>\n",
       "      <td>1.0</td>\n",
       "      <td>42.3519</td>\n",
       "      <td>-71.0643</td>\n",
       "      <td>37.05</td>\n",
       "      <td>...</td>\n",
       "      <td>0.0000</td>\n",
       "      <td>1543683600</td>\n",
       "      <td>31.42</td>\n",
       "      <td>1543658400</td>\n",
       "      <td>44.76</td>\n",
       "      <td>1543690800</td>\n",
       "      <td>27.77</td>\n",
       "      <td>1543658400</td>\n",
       "      <td>44.09</td>\n",
       "      <td>1543690800</td>\n",
       "    </tr>\n",
       "  </tbody>\n",
       "</table>\n",
       "<p>693071 rows × 46 columns</p>\n",
       "</div>"
      ],
      "text/plain": [
       "           timestamp  hour  day  month  price  distance  surge_multiplier  \\\n",
       "0       1.544953e+09     9   16     12    5.0      0.44               1.0   \n",
       "1       1.543284e+09     2   27     11   11.0      0.44               1.0   \n",
       "2       1.543367e+09     1   28     11    7.0      0.44               1.0   \n",
       "3       1.543554e+09     4   30     11   26.0      0.44               1.0   \n",
       "4       1.543463e+09     3   29     11    9.0      0.44               1.0   \n",
       "...              ...   ...  ...    ...    ...       ...               ...   \n",
       "693066  1.543708e+09    23    1     12   13.0      1.00               1.0   \n",
       "693067  1.543708e+09    23    1     12    9.5      1.00               1.0   \n",
       "693068  1.543708e+09    23    1     12    NaN      1.00               1.0   \n",
       "693069  1.543708e+09    23    1     12   27.0      1.00               1.0   \n",
       "693070  1.543708e+09    23    1     12   10.0      1.00               1.0   \n",
       "\n",
       "        latitude  longitude  temperature  ...  precipIntensityMax  \\\n",
       "0        42.2148   -71.0330        42.34  ...              0.1276   \n",
       "1        42.2148   -71.0330        43.58  ...              0.1300   \n",
       "2        42.2148   -71.0330        38.33  ...              0.1064   \n",
       "3        42.2148   -71.0330        34.38  ...              0.0000   \n",
       "4        42.2148   -71.0330        37.44  ...              0.0001   \n",
       "...          ...        ...          ...  ...                 ...   \n",
       "693066   42.3519   -71.0643        37.05  ...              0.0000   \n",
       "693067   42.3519   -71.0643        37.05  ...              0.0000   \n",
       "693068   42.3519   -71.0643        37.05  ...              0.0000   \n",
       "693069   42.3519   -71.0643        37.05  ...              0.0000   \n",
       "693070   42.3519   -71.0643        37.05  ...              0.0000   \n",
       "\n",
       "        uvIndexTime  temperatureMin  temperatureMinTime  temperatureMax  \\\n",
       "0        1544979600           39.89          1545012000           43.68   \n",
       "1        1543251600           40.49          1543233600           47.30   \n",
       "2        1543338000           35.36          1543377600           47.55   \n",
       "3        1543507200           34.67          1543550400           45.03   \n",
       "4        1543420800           33.10          1543402800           42.18   \n",
       "...             ...             ...                 ...             ...   \n",
       "693066   1543683600           31.42          1543658400           44.76   \n",
       "693067   1543683600           31.42          1543658400           44.76   \n",
       "693068   1543683600           31.42          1543658400           44.76   \n",
       "693069   1543683600           31.42          1543658400           44.76   \n",
       "693070   1543683600           31.42          1543658400           44.76   \n",
       "\n",
       "        temperatureMaxTime  apparentTemperatureMin  \\\n",
       "0               1544968800                   33.73   \n",
       "1               1543251600                   36.20   \n",
       "2               1543320000                   31.04   \n",
       "3               1543510800                   30.30   \n",
       "4               1543420800                   29.11   \n",
       "...                    ...                     ...   \n",
       "693066          1543690800                   27.77   \n",
       "693067          1543690800                   27.77   \n",
       "693068          1543690800                   27.77   \n",
       "693069          1543690800                   27.77   \n",
       "693070          1543690800                   27.77   \n",
       "\n",
       "        apparentTemperatureMinTime  apparentTemperatureMax  \\\n",
       "0                       1545012000                   38.07   \n",
       "1                       1543291200                   43.92   \n",
       "2                       1543377600                   44.12   \n",
       "3                       1543550400                   38.53   \n",
       "4                       1543392000                   35.75   \n",
       "...                            ...                     ...   \n",
       "693066                  1543658400                   44.09   \n",
       "693067                  1543658400                   44.09   \n",
       "693068                  1543658400                   44.09   \n",
       "693069                  1543658400                   44.09   \n",
       "693070                  1543658400                   44.09   \n",
       "\n",
       "        apparentTemperatureMaxTime  \n",
       "0                       1544958000  \n",
       "1                       1543251600  \n",
       "2                       1543320000  \n",
       "3                       1543510800  \n",
       "4                       1543420800  \n",
       "...                            ...  \n",
       "693066                  1543690800  \n",
       "693067                  1543690800  \n",
       "693068                  1543690800  \n",
       "693069                  1543690800  \n",
       "693070                  1543690800  \n",
       "\n",
       "[693071 rows x 46 columns]"
      ]
     },
     "execution_count": 30,
     "metadata": {},
     "output_type": "execute_result"
    }
   ],
   "source": [
    "num = data._get_numeric_data()\n",
    "num"
   ]
  },
  {
   "cell_type": "code",
   "execution_count": null,
   "metadata": {},
   "outputs": [
    {
     "name": "stdout",
     "output_type": "stream",
     "text": [
      "Column timestamp outliers = 0.00%\n",
      "Column hour outliers = 0.00%\n",
      "Column day outliers = 0.00%\n",
      "Column month outliers = 0.00%\n",
      "Column price outliers = 0.81%\n",
      "Column distance outliers = 1.27%\n",
      "Column surge_multiplier outliers = 100.00%\n",
      "Column latitude outliers = 12.78%\n",
      "Column longitude outliers = 0.00%\n",
      "Column temperature outliers = 5.29%\n",
      "Column apparentTemperature outliers = 7.72%\n",
      "Column precipIntensity outliers = 100.00%\n",
      "Column precipProbability outliers = 100.00%\n",
      "Column humidity outliers = 0.00%\n",
      "Column windSpeed outliers = 0.00%\n",
      "Column windGust outliers = 2.43%\n",
      "Column windGustTime outliers = 0.00%\n",
      "Column visibility outliers = 19.74%\n",
      "Column temperatureHigh outliers = 23.65%\n",
      "Column temperatureHighTime outliers = 0.00%\n",
      "Column temperatureLow outliers = 0.00%\n",
      "Column temperatureLowTime outliers = 0.00%\n",
      "Column apparentTemperatureHigh outliers = 10.33%\n",
      "Column apparentTemperatureHighTime outliers = 0.00%\n",
      "Column apparentTemperatureLow outliers = 12.65%\n",
      "Column apparentTemperatureLowTime outliers = 0.00%\n",
      "Column dewPoint outliers = 5.38%\n",
      "Column pressure outliers = 0.00%\n",
      "Column windBearing outliers = 0.00%\n",
      "Column cloudCover outliers = 0.00%\n",
      "Column uvIndex outliers = 100.00%\n",
      "Column visibility.1 outliers = 19.74%\n",
      "Column ozone outliers = 0.00%\n",
      "Column sunriseTime outliers = 0.00%\n",
      "Column sunsetTime outliers = 0.00%\n",
      "Column moonPhase outliers = 0.00%\n",
      "Column precipIntensityMax outliers = 0.00%\n",
      "Column uvIndexTime outliers = 0.00%\n",
      "Column temperatureMin outliers = 0.64%\n",
      "Column temperatureMinTime outliers = 0.00%\n",
      "Column temperatureMax outliers = 19.77%\n",
      "Column temperatureMaxTime outliers = 0.00%\n",
      "Column apparentTemperatureMin outliers = 10.97%\n",
      "Column apparentTemperatureMinTime outliers = 0.00%\n",
      "Column apparentTemperatureMax outliers = 6.46%\n",
      "Column apparentTemperatureMaxTime outliers = 0.00%\n"
     ]
    }
   ],
   "source": [
    "for i, j in num.items():\n",
    "        q1 = j.quantile(0.25)\n",
    "        q3 = j.quantile(0.75)\n",
    "        iqr = q3 - q1\n",
    "        j_col = j[(j <= q1 - 1.5 * iqr) | (j >= q3 + 1.5 * iqr)]\n",
    "        perc = np.shape(j_col)[0] * 100.0 / np.shape(num)[0]\n",
    "        print(\"Column %s outliers = %.2f%%\" % (i, perc))"
   ]
  },
  {
   "cell_type": "markdown",
   "metadata": {},
   "source": [
    "## Data Preprocessing\n",
    "---"
   ]
  },
  {
   "cell_type": "markdown",
   "metadata": {},
   "source": [
    "Pada bagian ini, akan dilakukan beberapa proses, yaitu:\n",
    "\n",
    "- Split Data\n",
    "- Handling Outliers\n",
    "- Feature Encoding\n",
    "- Fetaure Scaling\n"
   ]
  },
  {
   "cell_type": "markdown",
   "metadata": {},
   "source": [
    "Pertama akan di drop missing value yang ada, karena missing values ada dalam data target, maka kita bisa mendrop seluruh data yang memiliki missing values."
   ]
  },
  {
   "cell_type": "code",
   "execution_count": null,
   "metadata": {},
   "outputs": [],
   "source": [
    "data = data.dropna()"
   ]
  },
  {
   "cell_type": "markdown",
   "metadata": {},
   "source": [
    "### Split Data\n",
    "---"
   ]
  },
  {
   "cell_type": "markdown",
   "metadata": {},
   "source": [
    "Dataset akan di Split menjadi 80% Data Training dan 20% Data Test."
   ]
  },
  {
   "cell_type": "code",
   "execution_count": null,
   "metadata": {},
   "outputs": [],
   "source": [
    "x = data.loc[:,['cab_type', 'name','distance', 'surge_multiplier', 'temperature', 'timestamp']]\n",
    "y = data['price'] # Data Target"
   ]
  },
  {
   "cell_type": "code",
   "execution_count": null,
   "metadata": {},
   "outputs": [],
   "source": [
    "x_train, x_test, y_train,y_test = train_test_split(x,y, test_size = 0.2, random_state = 1)"
   ]
  },
  {
   "cell_type": "code",
   "execution_count": null,
   "metadata": {},
   "outputs": [
    {
     "data": {
      "text/plain": [
       "(510380, 6)"
      ]
     },
     "execution_count": 35,
     "metadata": {},
     "output_type": "execute_result"
    }
   ],
   "source": [
    "x_train.shape"
   ]
  },
  {
   "cell_type": "code",
   "execution_count": null,
   "metadata": {},
   "outputs": [
    {
     "data": {
      "text/plain": [
       "(510380,)"
      ]
     },
     "execution_count": 36,
     "metadata": {},
     "output_type": "execute_result"
    }
   ],
   "source": [
    "y_train.shape"
   ]
  },
  {
   "cell_type": "markdown",
   "metadata": {},
   "source": [
    "### Handling Outliers"
   ]
  },
  {
   "cell_type": "markdown",
   "metadata": {},
   "source": [
    "#### Handling Outliers Train Data"
   ]
  },
  {
   "cell_type": "code",
   "execution_count": null,
   "metadata": {},
   "outputs": [
    {
     "name": "stdout",
     "output_type": "stream",
     "text": [
      "Column distance outliers = 1.08%\n",
      "Column surge_multiplier outliers = 100.00%\n",
      "Column temperature outliers = 5.28%\n",
      "Column timestamp outliers = 0.00%\n"
     ]
    }
   ],
   "source": [
    "num_train = x_train._get_numeric_data()\n",
    "for i, j in num_train.items():\n",
    "        q1 = j.quantile(0.25)\n",
    "        q3 = j.quantile(0.75)\n",
    "        iqr = q3 - q1\n",
    "        j_col = j[(j <= q1 - 1.5 * iqr) | (j >= q3 + 1.5 * iqr)]\n",
    "        perc = np.shape(j_col)[0] * 100.0 / np.shape(num_train)[0]\n",
    "        print(\"Column %s outliers = %.2f%%\" % (i, perc))"
   ]
  },
  {
   "cell_type": "markdown",
   "metadata": {},
   "source": [
    "#### Check Distribution for Train Data"
   ]
  },
  {
   "cell_type": "code",
   "execution_count": null,
   "metadata": {},
   "outputs": [],
   "source": [
    "# Fungsi untuk membuat histogram, plot Q-Q dan boxplot.\n",
    "# Fungsi ini menggunakan kerangka data (data) dan variabel yang diinginkan sebagai argumen.\n",
    "\n",
    "def diagnostic_plots(x_train, variable):\n",
    "    # Tentukan ukuran gambar\n",
    "    plt.figure(figsize=(16, 4))\n",
    "\n",
    "    # Histogram\n",
    "    plt.subplot(1, 2, 1)\n",
    "    sns.histplot(x_train[variable], bins=30)\n",
    "    plt.title('Histogram')\n",
    "\n",
    "    # Boxplot\n",
    "    plt.subplot(1, 2, 2)\n",
    "    sns.boxplot(y=x_train[variable])\n",
    "    plt.title('Boxplot')\n",
    "\n",
    "    plt.show()"
   ]
  },
  {
   "cell_type": "code",
   "execution_count": null,
   "metadata": {},
   "outputs": [
    {
     "data": {
      "image/png": "[encoded data removed]",
      "text/plain": [
       "<Figure size 1152x288 with 2 Axes>"
      ]
     },
     "metadata": {
      "needs_background": "light"
     },
     "output_type": "display_data"
    },
    {
     "name": "stdout",
     "output_type": "stream",
     "text": [
      "\n",
      "Skewness Value :  0.8170764867230118\n"
     ]
    }
   ],
   "source": [
    "diagnostic_plots(x_train, 'distance')\n",
    "print('\\nSkewness Value : ', x_train['distance'].skew())"
   ]
  },
  {
   "cell_type": "markdown",
   "metadata": {},
   "source": [
    "Feature `distance` kemungkinan berdistribusi normal"
   ]
  },
  {
   "cell_type": "code",
   "execution_count": null,
   "metadata": {},
   "outputs": [
    {
     "data": {
      "image/png": "[encoded data removed]",
      "text/plain": [
       "<Figure size 1152x288 with 2 Axes>"
      ]
     },
     "metadata": {
      "needs_background": "light"
     },
     "output_type": "display_data"
    },
    {
     "name": "stdout",
     "output_type": "stream",
     "text": [
      "\n",
      "Skewness Value :  -0.609135459279012\n"
     ]
    }
   ],
   "source": [
    "diagnostic_plots(x_train, 'temperature')\n",
    "print('\\nSkewness Value : ', x_train['temperature'].skew())"
   ]
  },
  {
   "cell_type": "markdown",
   "metadata": {},
   "source": [
    "Feature `temperature` juga memiliki normal distribution"
   ]
  },
  {
   "cell_type": "code",
   "execution_count": null,
   "metadata": {},
   "outputs": [
    {
     "data": {
      "text/html": [
       "<div>\n",
       "<style scoped>\n",
       "    .dataframe tbody tr th:only-of-type {\n",
       "        vertical-align: middle;\n",
       "    }\n",
       "\n",
       "    .dataframe tbody tr th {\n",
       "        vertical-align: top;\n",
       "    }\n",
       "\n",
       "    .dataframe thead th {\n",
       "        text-align: right;\n",
       "    }\n",
       "</style>\n",
       "<table border=\"1\" class=\"dataframe\">\n",
       "  <thead>\n",
       "    <tr style=\"text-align: right;\">\n",
       "      <th></th>\n",
       "      <th>distance</th>\n",
       "      <th>temperature</th>\n",
       "    </tr>\n",
       "  </thead>\n",
       "  <tbody>\n",
       "    <tr>\n",
       "      <th>count</th>\n",
       "      <td>510380.000000</td>\n",
       "      <td>510380.000000</td>\n",
       "    </tr>\n",
       "    <tr>\n",
       "      <th>mean</th>\n",
       "      <td>2.188187</td>\n",
       "      <td>39.583823</td>\n",
       "    </tr>\n",
       "    <tr>\n",
       "      <th>std</th>\n",
       "      <td>1.135656</td>\n",
       "      <td>6.723708</td>\n",
       "    </tr>\n",
       "    <tr>\n",
       "      <th>min</th>\n",
       "      <td>0.020000</td>\n",
       "      <td>18.910000</td>\n",
       "    </tr>\n",
       "    <tr>\n",
       "      <th>25%</th>\n",
       "      <td>1.270000</td>\n",
       "      <td>36.450000</td>\n",
       "    </tr>\n",
       "    <tr>\n",
       "      <th>50%</th>\n",
       "      <td>2.160000</td>\n",
       "      <td>40.490000</td>\n",
       "    </tr>\n",
       "    <tr>\n",
       "      <th>75%</th>\n",
       "      <td>2.930000</td>\n",
       "      <td>43.580000</td>\n",
       "    </tr>\n",
       "    <tr>\n",
       "      <th>max</th>\n",
       "      <td>7.860000</td>\n",
       "      <td>57.220000</td>\n",
       "    </tr>\n",
       "  </tbody>\n",
       "</table>\n",
       "</div>"
      ],
      "text/plain": [
       "            distance    temperature\n",
       "count  510380.000000  510380.000000\n",
       "mean        2.188187      39.583823\n",
       "std         1.135656       6.723708\n",
       "min         0.020000      18.910000\n",
       "25%         1.270000      36.450000\n",
       "50%         2.160000      40.490000\n",
       "75%         2.930000      43.580000\n",
       "max         7.860000      57.220000"
      ]
     },
     "execution_count": 41,
     "metadata": {},
     "output_type": "execute_result"
    }
   ],
   "source": [
    "x_train[['distance','temperature']].describe()"
   ]
  },
  {
   "cell_type": "markdown",
   "metadata": {},
   "source": [
    "#### Capping for Train  Data"
   ]
  },
  {
   "cell_type": "code",
   "execution_count": null,
   "metadata": {},
   "outputs": [],
   "source": [
    "windsoriser = Winsorizer(capping_method='iqr', # pilih iqr untuk batas aturan IQR atau gaussian untuk mean dan std\n",
    "                          tail='both', \n",
    "                          fold=1.5,\n",
    "                          variables=['distance','temperature'])\n",
    "\n",
    "windsoriser.fit(x_train)\n",
    "\n",
    "x_train = windsoriser.transform(x_train)"
   ]
  },
  {
   "cell_type": "code",
   "execution_count": null,
   "metadata": {},
   "outputs": [
    {
     "data": {
      "image/png": "[encoded data removed]",
      "text/plain": [
       "<Figure size 1152x288 with 2 Axes>"
      ]
     },
     "metadata": {
      "needs_background": "light"
     },
     "output_type": "display_data"
    },
    {
     "name": "stdout",
     "output_type": "stream",
     "text": [
      "\n",
      "Skewness Value :  0.5895754185688913\n"
     ]
    }
   ],
   "source": [
    "diagnostic_plots(x_train, 'distance')\n",
    "print('\\nSkewness Value : ', x_train['distance'].skew())"
   ]
  },
  {
   "cell_type": "code",
   "execution_count": null,
   "metadata": {},
   "outputs": [
    {
     "data": {
      "image/png": "[encoded data removed]",
      "text/plain": [
       "<Figure size 1152x288 with 2 Axes>"
      ]
     },
     "metadata": {
      "needs_background": "light"
     },
     "output_type": "display_data"
    },
    {
     "name": "stdout",
     "output_type": "stream",
     "text": [
      "\n",
      "Skewness Value :  -0.318663393786653\n"
     ]
    }
   ],
   "source": [
    "diagnostic_plots(x_train, 'temperature')\n",
    "print('\\nSkewness Value : ', x_train['temperature'].skew())"
   ]
  },
  {
   "cell_type": "markdown",
   "metadata": {},
   "source": [
    "#### Handling Outliers for Test Data"
   ]
  },
  {
   "cell_type": "code",
   "execution_count": null,
   "metadata": {},
   "outputs": [
    {
     "name": "stdout",
     "output_type": "stream",
     "text": [
      "Column distance outliers = 1.07%\n",
      "Column surge_multiplier outliers = 100.00%\n",
      "Column temperature outliers = 5.32%\n",
      "Column timestamp outliers = 0.00%\n"
     ]
    }
   ],
   "source": [
    "num_test = x_test._get_numeric_data()\n",
    "for i, j in num_test.items():\n",
    "        q1 = j.quantile(0.25)\n",
    "        q3 = j.quantile(0.75)\n",
    "        iqr = q3 - q1\n",
    "        j_col = j[(j <= q1 - 1.5 * iqr) | (j >= q3 + 1.5 * iqr)]\n",
    "        perc = np.shape(j_col)[0] * 100.0 / np.shape(num_test)[0]\n",
    "        print(\"Column %s outliers = %.2f%%\" % (i, perc))"
   ]
  },
  {
   "cell_type": "markdown",
   "metadata": {},
   "source": [
    "#### Distribution for Test Data"
   ]
  },
  {
   "cell_type": "code",
   "execution_count": null,
   "metadata": {},
   "outputs": [],
   "source": [
    "def diagnostic_plots(x_test, variable):\n",
    "    # figure size\n",
    "    plt.figure(figsize=(16, 4))\n",
    "\n",
    "    # Histogram\n",
    "    plt.subplot(1, 2, 1)\n",
    "    sns.histplot(x_test[variable], bins=30)\n",
    "    plt.title('Histogram')\n",
    "\n",
    "    # Boxplot\n",
    "    plt.subplot(1, 2, 2)\n",
    "    sns.boxplot(y=x_test[variable])\n",
    "    plt.title('Boxplot')\n",
    "\n",
    "    plt.show()"
   ]
  },
  {
   "cell_type": "code",
   "execution_count": null,
   "metadata": {},
   "outputs": [
    {
     "data": {
      "image/png": "[encoded data removed]",
      "text/plain": [
       "<Figure size 1152x288 with 2 Axes>"
      ]
     },
     "metadata": {
      "needs_background": "light"
     },
     "output_type": "display_data"
    },
    {
     "name": "stdout",
     "output_type": "stream",
     "text": [
      "\n",
      "Skewness Value :  0.8159885366032177\n"
     ]
    }
   ],
   "source": [
    "diagnostic_plots(x_test, 'distance')\n",
    "print('\\nSkewness Value : ', x_test['distance'].skew())"
   ]
  },
  {
   "cell_type": "code",
   "execution_count": null,
   "metadata": {},
   "outputs": [
    {
     "data": {
      "image/png": "[encoded data removed]",
      "text/plain": [
       "<Figure size 1152x288 with 2 Axes>"
      ]
     },
     "metadata": {
      "needs_background": "light"
     },
     "output_type": "display_data"
    },
    {
     "name": "stdout",
     "output_type": "stream",
     "text": [
      "\n",
      "Skewness Value :  -0.6094112157935422\n"
     ]
    }
   ],
   "source": [
    "diagnostic_plots(x_test, 'temperature')\n",
    "print('\\nSkewness Value : ', x_test['temperature'].skew())"
   ]
  },
  {
   "cell_type": "markdown",
   "metadata": {},
   "source": [
    "#### Capping for Test Data"
   ]
  },
  {
   "cell_type": "code",
   "execution_count": null,
   "metadata": {},
   "outputs": [],
   "source": [
    "windsoriser = Winsorizer(capping_method='iqr', # choose iqr for IQR rule boundaries or gaussian for mean and std\n",
    "                          tail='both', # cap left, right or both tails \n",
    "                          fold=1.5,\n",
    "                          variables=['distance','temperature'])\n",
    "\n",
    "windsoriser.fit(x_test)\n",
    "\n",
    "x_test = windsoriser.transform(x_test)"
   ]
  },
  {
   "cell_type": "code",
   "execution_count": null,
   "metadata": {},
   "outputs": [
    {
     "data": {
      "image/png": "[encoded data removed]",
      "text/plain": [
       "<Figure size 1152x288 with 2 Axes>"
      ]
     },
     "metadata": {
      "needs_background": "light"
     },
     "output_type": "display_data"
    },
    {
     "name": "stdout",
     "output_type": "stream",
     "text": [
      "\n",
      "Skewness Value :  0.5848528592114998\n"
     ]
    }
   ],
   "source": [
    "diagnostic_plots(x_test, 'distance')\n",
    "print('\\nSkewness Value : ', x_test['distance'].skew())"
   ]
  },
  {
   "cell_type": "code",
   "execution_count": null,
   "metadata": {},
   "outputs": [
    {
     "data": {
      "image/png": "[encoded data removed]",
      "text/plain": [
       "<Figure size 1152x288 with 2 Axes>"
      ]
     },
     "metadata": {
      "needs_background": "light"
     },
     "output_type": "display_data"
    },
    {
     "name": "stdout",
     "output_type": "stream",
     "text": [
      "\n",
      "Skewness Value :  -0.3155406719604194\n"
     ]
    }
   ],
   "source": [
    "diagnostic_plots(x_test, 'temperature')\n",
    "print('\\nSkewness Value : ', x_test['temperature'].skew())"
   ]
  },
  {
   "cell_type": "markdown",
   "metadata": {},
   "source": [
    "### Handling Missing Values\n",
    "---\n"
   ]
  },
  {
   "cell_type": "code",
   "execution_count": null,
   "metadata": {},
   "outputs": [
    {
     "data": {
      "text/plain": [
       "0"
      ]
     },
     "execution_count": 52,
     "metadata": {},
     "output_type": "execute_result"
    }
   ],
   "source": [
    "y_train.isnull().sum()"
   ]
  },
  {
   "cell_type": "code",
   "execution_count": null,
   "metadata": {},
   "outputs": [
    {
     "data": {
      "text/html": [
       "<div>\n",
       "<style scoped>\n",
       "    .dataframe tbody tr th:only-of-type {\n",
       "        vertical-align: middle;\n",
       "    }\n",
       "\n",
       "    .dataframe tbody tr th {\n",
       "        vertical-align: top;\n",
       "    }\n",
       "\n",
       "    .dataframe thead th {\n",
       "        text-align: right;\n",
       "    }\n",
       "</style>\n",
       "<table border=\"1\" class=\"dataframe\">\n",
       "  <thead>\n",
       "    <tr style=\"text-align: right;\">\n",
       "      <th></th>\n",
       "      <th>cab_type</th>\n",
       "      <th>name</th>\n",
       "      <th>distance</th>\n",
       "      <th>surge_multiplier</th>\n",
       "      <th>temperature</th>\n",
       "      <th>timestamp</th>\n",
       "    </tr>\n",
       "  </thead>\n",
       "  <tbody>\n",
       "    <tr>\n",
       "      <th>613406</th>\n",
       "      <td>Uber</td>\n",
       "      <td>WAV</td>\n",
       "      <td>1.90</td>\n",
       "      <td>1.0</td>\n",
       "      <td>44.29</td>\n",
       "      <td>1.543308e+09</td>\n",
       "    </tr>\n",
       "    <tr>\n",
       "      <th>594265</th>\n",
       "      <td>Lyft</td>\n",
       "      <td>Shared</td>\n",
       "      <td>1.32</td>\n",
       "      <td>1.0</td>\n",
       "      <td>43.57</td>\n",
       "      <td>1.543295e+09</td>\n",
       "    </tr>\n",
       "    <tr>\n",
       "      <th>486324</th>\n",
       "      <td>Uber</td>\n",
       "      <td>UberX</td>\n",
       "      <td>2.38</td>\n",
       "      <td>1.0</td>\n",
       "      <td>46.23</td>\n",
       "      <td>1.543319e+09</td>\n",
       "    </tr>\n",
       "    <tr>\n",
       "      <th>452986</th>\n",
       "      <td>Lyft</td>\n",
       "      <td>Lux</td>\n",
       "      <td>1.01</td>\n",
       "      <td>1.0</td>\n",
       "      <td>40.29</td>\n",
       "      <td>1.543497e+09</td>\n",
       "    </tr>\n",
       "    <tr>\n",
       "      <th>234459</th>\n",
       "      <td>Uber</td>\n",
       "      <td>Black</td>\n",
       "      <td>1.03</td>\n",
       "      <td>1.0</td>\n",
       "      <td>40.01</td>\n",
       "      <td>1.543683e+09</td>\n",
       "    </tr>\n",
       "    <tr>\n",
       "      <th>...</th>\n",
       "      <td>...</td>\n",
       "      <td>...</td>\n",
       "      <td>...</td>\n",
       "      <td>...</td>\n",
       "      <td>...</td>\n",
       "      <td>...</td>\n",
       "    </tr>\n",
       "    <tr>\n",
       "      <th>403282</th>\n",
       "      <td>Uber</td>\n",
       "      <td>Black SUV</td>\n",
       "      <td>5.42</td>\n",
       "      <td>1.0</td>\n",
       "      <td>36.95</td>\n",
       "      <td>1.543725e+09</td>\n",
       "    </tr>\n",
       "    <tr>\n",
       "      <th>533613</th>\n",
       "      <td>Uber</td>\n",
       "      <td>UberXL</td>\n",
       "      <td>1.50</td>\n",
       "      <td>1.0</td>\n",
       "      <td>31.98</td>\n",
       "      <td>1.544738e+09</td>\n",
       "    </tr>\n",
       "    <tr>\n",
       "      <th>511529</th>\n",
       "      <td>Uber</td>\n",
       "      <td>UberPool</td>\n",
       "      <td>1.26</td>\n",
       "      <td>1.0</td>\n",
       "      <td>35.19</td>\n",
       "      <td>1.545052e+09</td>\n",
       "    </tr>\n",
       "    <tr>\n",
       "      <th>534152</th>\n",
       "      <td>Lyft</td>\n",
       "      <td>Lyft</td>\n",
       "      <td>1.70</td>\n",
       "      <td>1.0</td>\n",
       "      <td>31.74</td>\n",
       "      <td>1.543561e+09</td>\n",
       "    </tr>\n",
       "    <tr>\n",
       "      <th>139061</th>\n",
       "      <td>Uber</td>\n",
       "      <td>UberXL</td>\n",
       "      <td>3.19</td>\n",
       "      <td>1.0</td>\n",
       "      <td>47.95</td>\n",
       "      <td>1.544886e+09</td>\n",
       "    </tr>\n",
       "  </tbody>\n",
       "</table>\n",
       "<p>510380 rows × 6 columns</p>\n",
       "</div>"
      ],
      "text/plain": [
       "       cab_type       name  distance  surge_multiplier  temperature  \\\n",
       "613406     Uber        WAV      1.90               1.0        44.29   \n",
       "594265     Lyft     Shared      1.32               1.0        43.57   \n",
       "486324     Uber      UberX      2.38               1.0        46.23   \n",
       "452986     Lyft        Lux      1.01               1.0        40.29   \n",
       "234459     Uber      Black      1.03               1.0        40.01   \n",
       "...         ...        ...       ...               ...          ...   \n",
       "403282     Uber  Black SUV      5.42               1.0        36.95   \n",
       "533613     Uber     UberXL      1.50               1.0        31.98   \n",
       "511529     Uber   UberPool      1.26               1.0        35.19   \n",
       "534152     Lyft       Lyft      1.70               1.0        31.74   \n",
       "139061     Uber     UberXL      3.19               1.0        47.95   \n",
       "\n",
       "           timestamp  \n",
       "613406  1.543308e+09  \n",
       "594265  1.543295e+09  \n",
       "486324  1.543319e+09  \n",
       "452986  1.543497e+09  \n",
       "234459  1.543683e+09  \n",
       "...              ...  \n",
       "403282  1.543725e+09  \n",
       "533613  1.544738e+09  \n",
       "511529  1.545052e+09  \n",
       "534152  1.543561e+09  \n",
       "139061  1.544886e+09  \n",
       "\n",
       "[510380 rows x 6 columns]"
      ]
     },
     "execution_count": 53,
     "metadata": {},
     "output_type": "execute_result"
    }
   ],
   "source": [
    "missing_train = y_train.isnull().index[y_train.isnull()]\n",
    "missing_test = y_train.isnull().index[y_train.isnull()]\n",
    "\n",
    "drop_x_train = x_train.drop(missing_train.tolist())\n",
    "drop_x_train"
   ]
  },
  {
   "cell_type": "markdown",
   "metadata": {},
   "source": [
    "### Feature Encoding\n",
    "---"
   ]
  },
  {
   "cell_type": "markdown",
   "metadata": {},
   "source": [
    "Penggunaan One Hot Encoding (OHE) dengan menerapkan get_dummies untuk train data dan test data"
   ]
  },
  {
   "cell_type": "code",
   "execution_count": null,
   "metadata": {},
   "outputs": [],
   "source": [
    "x_train = pd.get_dummies(x_train, prefix='', prefix_sep='', \n",
    "                            columns=['cab_type', 'name'])\n",
    "x_test = pd.get_dummies(x_test, prefix='', prefix_sep='', \n",
    "                            columns=['cab_type', 'name'])"
   ]
  },
  {
   "cell_type": "markdown",
   "metadata": {},
   "source": [
    "### Feature Scaling\n",
    "---\n",
    "Penggunaan MinMaxScaler untuk proses scaling"
   ]
  },
  {
   "cell_type": "code",
   "execution_count": null,
   "metadata": {},
   "outputs": [],
   "source": [
    "scaler = MinMaxScaler()\n",
    "scaler.fit(x_train)\n",
    "x_train = scaler.transform(x_train)\n",
    "x_test = scaler.transform(x_test)"
   ]
  },
  {
   "cell_type": "markdown",
   "metadata": {},
   "source": [
    "## Modeling \n",
    "---"
   ]
  },
  {
   "cell_type": "code",
   "execution_count": null,
   "metadata": {},
   "outputs": [
    {
     "data": {
      "text/plain": [
       "LinearRegression()"
      ]
     },
     "execution_count": 56,
     "metadata": {},
     "output_type": "execute_result"
    }
   ],
   "source": [
    "model = LinearRegression()\n",
    "model.fit(x_train, y_train)"
   ]
  },
  {
   "cell_type": "code",
   "execution_count": null,
   "metadata": {},
   "outputs": [
    {
     "data": {
      "text/plain": [
       "0.9279569604945462"
      ]
     },
     "execution_count": 57,
     "metadata": {},
     "output_type": "execute_result"
    }
   ],
   "source": [
    "model.score(x_test, y_test)"
   ]
  },
  {
   "cell_type": "markdown",
   "metadata": {},
   "source": [
    "## Model Evaluation\n",
    "---\n"
   ]
  },
  {
   "cell_type": "code",
   "execution_count": null,
   "metadata": {},
   "outputs": [
    {
     "data": {
      "text/plain": [
       "array([ 1.55458426e+01,  3.65647122e+01, -4.36512059e-03,  2.54971813e-03,\n",
       "       -1.05849483e+12, -6.90421682e+11, -1.28160286e+10, -1.28160286e+10,\n",
       "        3.55257119e+11,  3.55257119e+11,  3.55257119e+11,  3.55257119e+11,\n",
       "        3.55257119e+11,  3.55257119e+11, -1.28160287e+10, -1.28160286e+10,\n",
       "       -1.28160286e+10, -1.28160286e+10])"
      ]
     },
     "execution_count": 58,
     "metadata": {},
     "output_type": "execute_result"
    }
   ],
   "source": [
    "model.coef_"
   ]
  },
  {
   "cell_type": "code",
   "execution_count": null,
   "metadata": {},
   "outputs": [
    {
     "data": {
      "text/plain": [
       "array([ 8.9831543 ,  3.5255127 , 10.35705566, ...,  6.13012695,\n",
       "        7.51269531, 18.61621094])"
      ]
     },
     "execution_count": 59,
     "metadata": {},
     "output_type": "execute_result"
    }
   ],
   "source": [
    "prediction_train = model.predict(x_train)\n",
    "prediction_train"
   ]
  },
  {
   "cell_type": "code",
   "execution_count": null,
   "metadata": {},
   "outputs": [
    {
     "data": {
      "text/plain": [
       "array([14.52600098,  9.09472656,  7.99829102, ..., 18.98413086,\n",
       "       25.59313965, 16.28295898])"
      ]
     },
     "execution_count": 60,
     "metadata": {},
     "output_type": "execute_result"
    }
   ],
   "source": [
    "prediction_test = model.predict(x_test)\n",
    "prediction_test"
   ]
  },
  {
   "cell_type": "code",
   "execution_count": null,
   "metadata": {},
   "outputs": [
    {
     "name": "stdout",
     "output_type": "stream",
     "text": [
      "MAE Train :   1.7822905248180585\n",
      "MSE Train :   6.310576070679174\n",
      "RMAE Train :   2.5120859998573244\n",
      "MAPE Train :   13.642841193227609\n",
      "R2 Score Train :   0.9275199495299079\n"
     ]
    }
   ],
   "source": [
    "# Prediksi dari x_train\n",
    "from sklearn import metrics\n",
    "print('MAE Train :',\" \", metrics.mean_absolute_error(y_train,prediction_train))\n",
    "print('MSE Train :',\" \", metrics.mean_squared_error(y_train,prediction_train))\n",
    "print('RMAE Train :',\" \", np.sqrt(metrics.mean_squared_error(y_train,prediction_train)))\n",
    "print('MAPE Train :',\" \", metrics.mean_absolute_percentage_error(y_train,prediction_train)*100) # Lower the MAPE, better fit is the model.\n",
    "print('R2 Score Train :',\" \", metrics.r2_score(y_train,prediction_train))"
   ]
  },
  {
   "cell_type": "code",
   "execution_count": null,
   "metadata": {},
   "outputs": [
    {
     "name": "stdout",
     "output_type": "stream",
     "text": [
      "MAE Test :   1.7794050091527287\n",
      "MSE Test :   6.228265928556182\n",
      "RMAE Test :   2.495649400167456\n",
      "MAPE Test :   13.606735802078191\n",
      "R2 Score Test :   0.9279569604945462\n"
     ]
    }
   ],
   "source": [
    "# Prediksi dari x_test\n",
    "print('MAE Test :',\" \", metrics.mean_absolute_error(y_test,prediction_test))\n",
    "print('MSE Test :',\" \", metrics.mean_squared_error(y_test,prediction_test))\n",
    "print('RMAE Test :',\" \", np.sqrt(metrics.mean_squared_error(y_test,prediction_test)))\n",
    "print('MAPE Test :',\" \", metrics.mean_absolute_percentage_error(y_test,prediction_test)*100) # Lower the MAPE, better fit is the model.\n",
    "print('R2 Score Test :',\" \", metrics.r2_score(y_test,prediction_test))"
   ]
  },
  {
   "cell_type": "markdown",
   "metadata": {},
   "source": [
    "Dari data diatas bisa dinyatakan bahwa nilai MAE, MSE dan RMAE memiliki nilai yang kecil. Semakin nilai ketiganya mendekati 0 maka model bisa dikatana semakin baik. \n",
    "Sedangkan untuk nilai MAPE menyatakan persentase akurasi dari model. Semakin kecil nilai persentase MAPE maka semakin baik model memprediksi nilai.\n",
    "\n",
    "R2 score menunjukkan proporsi titik data yang terletak di dalam garis yang dibuat oleh persamaan regresi. Nilai R2  score yang lebih tinggi diinginkan karena menunjukkan hasil yang lebih baik.\n",
    "\n"
   ]
  },
  {
   "cell_type": "markdown",
   "metadata": {},
   "source": [
    "## Model Inference\n",
    "---\n",
    "Dalam model inference, akan digunakan data baru untuk mengetahui kualitas dari model Machine Learning. Data yang akan digunakan adalah data acak."
   ]
  },
  {
   "cell_type": "code",
   "execution_count": null,
   "metadata": {},
   "outputs": [
    {
     "data": {
      "text/html": [
       "<div>\n",
       "<style scoped>\n",
       "    .dataframe tbody tr th:only-of-type {\n",
       "        vertical-align: middle;\n",
       "    }\n",
       "\n",
       "    .dataframe tbody tr th {\n",
       "        vertical-align: top;\n",
       "    }\n",
       "\n",
       "    .dataframe thead th {\n",
       "        text-align: right;\n",
       "    }\n",
       "</style>\n",
       "<table border=\"1\" class=\"dataframe\">\n",
       "  <thead>\n",
       "    <tr style=\"text-align: right;\">\n",
       "      <th></th>\n",
       "      <th>id</th>\n",
       "      <th>timestamp</th>\n",
       "      <th>hour</th>\n",
       "      <th>day</th>\n",
       "      <th>month</th>\n",
       "      <th>datetime</th>\n",
       "      <th>timezone</th>\n",
       "      <th>source</th>\n",
       "      <th>destination</th>\n",
       "      <th>cab_type</th>\n",
       "      <th>...</th>\n",
       "      <th>precipIntensityMax</th>\n",
       "      <th>uvIndexTime</th>\n",
       "      <th>temperatureMin</th>\n",
       "      <th>temperatureMinTime</th>\n",
       "      <th>temperatureMax</th>\n",
       "      <th>temperatureMaxTime</th>\n",
       "      <th>apparentTemperatureMin</th>\n",
       "      <th>apparentTemperatureMinTime</th>\n",
       "      <th>apparentTemperatureMax</th>\n",
       "      <th>apparentTemperatureMaxTime</th>\n",
       "    </tr>\n",
       "  </thead>\n",
       "  <tbody>\n",
       "    <tr>\n",
       "      <th>284552</th>\n",
       "      <td>a3923b39-2119-43a1-a5e9-c209aa8bc394</td>\n",
       "      <td>1.543591e+09</td>\n",
       "      <td>15</td>\n",
       "      <td>30</td>\n",
       "      <td>11</td>\n",
       "      <td>2018-11-30 15:18:03</td>\n",
       "      <td>America/New_York</td>\n",
       "      <td>Theatre District</td>\n",
       "      <td>Northeastern University</td>\n",
       "      <td>Lyft</td>\n",
       "      <td>...</td>\n",
       "      <td>0.0003</td>\n",
       "      <td>1543593600</td>\n",
       "      <td>28.78</td>\n",
       "      <td>1543579200</td>\n",
       "      <td>42.64</td>\n",
       "      <td>1543600800</td>\n",
       "      <td>26.35</td>\n",
       "      <td>1543575600</td>\n",
       "      <td>40.61</td>\n",
       "      <td>1543611600</td>\n",
       "    </tr>\n",
       "    <tr>\n",
       "      <th>156316</th>\n",
       "      <td>a72dabd6-4b5c-4ef0-b54f-e6bb4612033d</td>\n",
       "      <td>1.543453e+09</td>\n",
       "      <td>0</td>\n",
       "      <td>29</td>\n",
       "      <td>11</td>\n",
       "      <td>2018-11-29 00:51:46</td>\n",
       "      <td>America/New_York</td>\n",
       "      <td>North End</td>\n",
       "      <td>Theatre District</td>\n",
       "      <td>Lyft</td>\n",
       "      <td>...</td>\n",
       "      <td>0.0000</td>\n",
       "      <td>1543420800</td>\n",
       "      <td>33.82</td>\n",
       "      <td>1543399200</td>\n",
       "      <td>42.72</td>\n",
       "      <td>1543438800</td>\n",
       "      <td>30.19</td>\n",
       "      <td>1543399200</td>\n",
       "      <td>36.75</td>\n",
       "      <td>1543438800</td>\n",
       "    </tr>\n",
       "    <tr>\n",
       "      <th>173630</th>\n",
       "      <td>36bc2f83-86d5-4420-8f90-585ef8309bc2</td>\n",
       "      <td>1.543604e+09</td>\n",
       "      <td>18</td>\n",
       "      <td>30</td>\n",
       "      <td>11</td>\n",
       "      <td>2018-11-30 18:53:00</td>\n",
       "      <td>America/New_York</td>\n",
       "      <td>West End</td>\n",
       "      <td>Haymarket Square</td>\n",
       "      <td>Lyft</td>\n",
       "      <td>...</td>\n",
       "      <td>0.0000</td>\n",
       "      <td>1543593600</td>\n",
       "      <td>28.90</td>\n",
       "      <td>1543579200</td>\n",
       "      <td>42.13</td>\n",
       "      <td>1543600800</td>\n",
       "      <td>26.20</td>\n",
       "      <td>1543575600</td>\n",
       "      <td>40.95</td>\n",
       "      <td>1543608000</td>\n",
       "    </tr>\n",
       "    <tr>\n",
       "      <th>15757</th>\n",
       "      <td>fa5fc27c-eb16-4301-83e1-6a094a07f718</td>\n",
       "      <td>1.545021e+09</td>\n",
       "      <td>4</td>\n",
       "      <td>17</td>\n",
       "      <td>12</td>\n",
       "      <td>2018-12-17 04:30:09</td>\n",
       "      <td>America/New_York</td>\n",
       "      <td>Beacon Hill</td>\n",
       "      <td>Fenway</td>\n",
       "      <td>Lyft</td>\n",
       "      <td>...</td>\n",
       "      <td>0.1276</td>\n",
       "      <td>1544979600</td>\n",
       "      <td>39.89</td>\n",
       "      <td>1545012000</td>\n",
       "      <td>43.68</td>\n",
       "      <td>1544968800</td>\n",
       "      <td>33.73</td>\n",
       "      <td>1545012000</td>\n",
       "      <td>38.07</td>\n",
       "      <td>1544958000</td>\n",
       "    </tr>\n",
       "    <tr>\n",
       "      <th>549339</th>\n",
       "      <td>a89e6b01-8cc9-4fbf-b9f7-0f61a135e0df</td>\n",
       "      <td>1.543542e+09</td>\n",
       "      <td>1</td>\n",
       "      <td>30</td>\n",
       "      <td>11</td>\n",
       "      <td>2018-11-30 01:38:02</td>\n",
       "      <td>America/New_York</td>\n",
       "      <td>Beacon Hill</td>\n",
       "      <td>North End</td>\n",
       "      <td>Uber</td>\n",
       "      <td>...</td>\n",
       "      <td>0.0000</td>\n",
       "      <td>1543510800</td>\n",
       "      <td>35.20</td>\n",
       "      <td>1543550400</td>\n",
       "      <td>44.96</td>\n",
       "      <td>1543510800</td>\n",
       "      <td>31.40</td>\n",
       "      <td>1543550400</td>\n",
       "      <td>38.85</td>\n",
       "      <td>1543510800</td>\n",
       "    </tr>\n",
       "    <tr>\n",
       "      <th>...</th>\n",
       "      <td>...</td>\n",
       "      <td>...</td>\n",
       "      <td>...</td>\n",
       "      <td>...</td>\n",
       "      <td>...</td>\n",
       "      <td>...</td>\n",
       "      <td>...</td>\n",
       "      <td>...</td>\n",
       "      <td>...</td>\n",
       "      <td>...</td>\n",
       "      <td>...</td>\n",
       "      <td>...</td>\n",
       "      <td>...</td>\n",
       "      <td>...</td>\n",
       "      <td>...</td>\n",
       "      <td>...</td>\n",
       "      <td>...</td>\n",
       "      <td>...</td>\n",
       "      <td>...</td>\n",
       "      <td>...</td>\n",
       "      <td>...</td>\n",
       "    </tr>\n",
       "    <tr>\n",
       "      <th>398135</th>\n",
       "      <td>476e1d4b-3da4-4ba9-9b5d-d69023dce441</td>\n",
       "      <td>1.544675e+09</td>\n",
       "      <td>4</td>\n",
       "      <td>13</td>\n",
       "      <td>12</td>\n",
       "      <td>2018-12-13 04:20:00</td>\n",
       "      <td>America/New_York</td>\n",
       "      <td>Beacon Hill</td>\n",
       "      <td>Haymarket Square</td>\n",
       "      <td>Uber</td>\n",
       "      <td>...</td>\n",
       "      <td>0.0000</td>\n",
       "      <td>1544634000</td>\n",
       "      <td>22.55</td>\n",
       "      <td>1544673600</td>\n",
       "      <td>37.84</td>\n",
       "      <td>1544637600</td>\n",
       "      <td>17.99</td>\n",
       "      <td>1544673600</td>\n",
       "      <td>30.27</td>\n",
       "      <td>1544637600</td>\n",
       "    </tr>\n",
       "    <tr>\n",
       "      <th>199716</th>\n",
       "      <td>beded059-7bdb-4c60-8fcb-a898e9b4a6c6</td>\n",
       "      <td>1.543708e+09</td>\n",
       "      <td>23</td>\n",
       "      <td>1</td>\n",
       "      <td>12</td>\n",
       "      <td>2018-12-01 23:43:00</td>\n",
       "      <td>America/New_York</td>\n",
       "      <td>Beacon Hill</td>\n",
       "      <td>Fenway</td>\n",
       "      <td>Uber</td>\n",
       "      <td>...</td>\n",
       "      <td>0.0000</td>\n",
       "      <td>1543683600</td>\n",
       "      <td>31.42</td>\n",
       "      <td>1543658400</td>\n",
       "      <td>44.76</td>\n",
       "      <td>1543690800</td>\n",
       "      <td>27.77</td>\n",
       "      <td>1543658400</td>\n",
       "      <td>44.09</td>\n",
       "      <td>1543690800</td>\n",
       "    </tr>\n",
       "    <tr>\n",
       "      <th>351019</th>\n",
       "      <td>715f2b7e-2171-44af-abc8-99d9fa95cb46</td>\n",
       "      <td>1.545005e+09</td>\n",
       "      <td>0</td>\n",
       "      <td>17</td>\n",
       "      <td>12</td>\n",
       "      <td>2018-12-17 00:05:11</td>\n",
       "      <td>America/New_York</td>\n",
       "      <td>North Station</td>\n",
       "      <td>South Station</td>\n",
       "      <td>Uber</td>\n",
       "      <td>...</td>\n",
       "      <td>0.1254</td>\n",
       "      <td>1544979600</td>\n",
       "      <td>38.94</td>\n",
       "      <td>1544954400</td>\n",
       "      <td>43.73</td>\n",
       "      <td>1544990400</td>\n",
       "      <td>33.99</td>\n",
       "      <td>1545019200</td>\n",
       "      <td>38.39</td>\n",
       "      <td>1544986800</td>\n",
       "    </tr>\n",
       "    <tr>\n",
       "      <th>39504</th>\n",
       "      <td>cc10934a-640a-477f-9dfd-1809bbd10159</td>\n",
       "      <td>1.543790e+09</td>\n",
       "      <td>22</td>\n",
       "      <td>2</td>\n",
       "      <td>12</td>\n",
       "      <td>2018-12-02 22:33:01</td>\n",
       "      <td>America/New_York</td>\n",
       "      <td>Fenway</td>\n",
       "      <td>North Station</td>\n",
       "      <td>Uber</td>\n",
       "      <td>...</td>\n",
       "      <td>0.0954</td>\n",
       "      <td>1543770000</td>\n",
       "      <td>35.89</td>\n",
       "      <td>1543726800</td>\n",
       "      <td>50.78</td>\n",
       "      <td>1543788000</td>\n",
       "      <td>35.73</td>\n",
       "      <td>1543748400</td>\n",
       "      <td>50.11</td>\n",
       "      <td>1543788000</td>\n",
       "    </tr>\n",
       "    <tr>\n",
       "      <th>610354</th>\n",
       "      <td>f33d2bb5-ac4a-4e94-8073-73e78fb73227</td>\n",
       "      <td>1.543712e+09</td>\n",
       "      <td>0</td>\n",
       "      <td>2</td>\n",
       "      <td>12</td>\n",
       "      <td>2018-12-02 00:57:58</td>\n",
       "      <td>America/New_York</td>\n",
       "      <td>Northeastern University</td>\n",
       "      <td>Financial District</td>\n",
       "      <td>Lyft</td>\n",
       "      <td>...</td>\n",
       "      <td>0.0000</td>\n",
       "      <td>1543683600</td>\n",
       "      <td>31.71</td>\n",
       "      <td>1543658400</td>\n",
       "      <td>44.66</td>\n",
       "      <td>1543690800</td>\n",
       "      <td>28.06</td>\n",
       "      <td>1543658400</td>\n",
       "      <td>43.99</td>\n",
       "      <td>1543690800</td>\n",
       "    </tr>\n",
       "  </tbody>\n",
       "</table>\n",
       "<p>637976 rows × 57 columns</p>\n",
       "</div>"
      ],
      "text/plain": [
       "                                          id     timestamp  hour  day  month  \\\n",
       "284552  a3923b39-2119-43a1-a5e9-c209aa8bc394  1.543591e+09    15   30     11   \n",
       "156316  a72dabd6-4b5c-4ef0-b54f-e6bb4612033d  1.543453e+09     0   29     11   \n",
       "173630  36bc2f83-86d5-4420-8f90-585ef8309bc2  1.543604e+09    18   30     11   \n",
       "15757   fa5fc27c-eb16-4301-83e1-6a094a07f718  1.545021e+09     4   17     12   \n",
       "549339  a89e6b01-8cc9-4fbf-b9f7-0f61a135e0df  1.543542e+09     1   30     11   \n",
       "...                                      ...           ...   ...  ...    ...   \n",
       "398135  476e1d4b-3da4-4ba9-9b5d-d69023dce441  1.544675e+09     4   13     12   \n",
       "199716  beded059-7bdb-4c60-8fcb-a898e9b4a6c6  1.543708e+09    23    1     12   \n",
       "351019  715f2b7e-2171-44af-abc8-99d9fa95cb46  1.545005e+09     0   17     12   \n",
       "39504   cc10934a-640a-477f-9dfd-1809bbd10159  1.543790e+09    22    2     12   \n",
       "610354  f33d2bb5-ac4a-4e94-8073-73e78fb73227  1.543712e+09     0    2     12   \n",
       "\n",
       "                   datetime          timezone                   source  \\\n",
       "284552  2018-11-30 15:18:03  America/New_York         Theatre District   \n",
       "156316  2018-11-29 00:51:46  America/New_York                North End   \n",
       "173630  2018-11-30 18:53:00  America/New_York                 West End   \n",
       "15757   2018-12-17 04:30:09  America/New_York              Beacon Hill   \n",
       "549339  2018-11-30 01:38:02  America/New_York              Beacon Hill   \n",
       "...                     ...               ...                      ...   \n",
       "398135  2018-12-13 04:20:00  America/New_York              Beacon Hill   \n",
       "199716  2018-12-01 23:43:00  America/New_York              Beacon Hill   \n",
       "351019  2018-12-17 00:05:11  America/New_York            North Station   \n",
       "39504   2018-12-02 22:33:01  America/New_York                   Fenway   \n",
       "610354  2018-12-02 00:57:58  America/New_York  Northeastern University   \n",
       "\n",
       "                    destination cab_type  ... precipIntensityMax uvIndexTime  \\\n",
       "284552  Northeastern University     Lyft  ...             0.0003  1543593600   \n",
       "156316         Theatre District     Lyft  ...             0.0000  1543420800   \n",
       "173630         Haymarket Square     Lyft  ...             0.0000  1543593600   \n",
       "15757                    Fenway     Lyft  ...             0.1276  1544979600   \n",
       "549339                North End     Uber  ...             0.0000  1543510800   \n",
       "...                         ...      ...  ...                ...         ...   \n",
       "398135         Haymarket Square     Uber  ...             0.0000  1544634000   \n",
       "199716                   Fenway     Uber  ...             0.0000  1543683600   \n",
       "351019            South Station     Uber  ...             0.1254  1544979600   \n",
       "39504             North Station     Uber  ...             0.0954  1543770000   \n",
       "610354       Financial District     Lyft  ...             0.0000  1543683600   \n",
       "\n",
       "        temperatureMin  temperatureMinTime  temperatureMax  \\\n",
       "284552           28.78          1543579200           42.64   \n",
       "156316           33.82          1543399200           42.72   \n",
       "173630           28.90          1543579200           42.13   \n",
       "15757            39.89          1545012000           43.68   \n",
       "549339           35.20          1543550400           44.96   \n",
       "...                ...                 ...             ...   \n",
       "398135           22.55          1544673600           37.84   \n",
       "199716           31.42          1543658400           44.76   \n",
       "351019           38.94          1544954400           43.73   \n",
       "39504            35.89          1543726800           50.78   \n",
       "610354           31.71          1543658400           44.66   \n",
       "\n",
       "        temperatureMaxTime  apparentTemperatureMin  \\\n",
       "284552          1543600800                   26.35   \n",
       "156316          1543438800                   30.19   \n",
       "173630          1543600800                   26.20   \n",
       "15757           1544968800                   33.73   \n",
       "549339          1543510800                   31.40   \n",
       "...                    ...                     ...   \n",
       "398135          1544637600                   17.99   \n",
       "199716          1543690800                   27.77   \n",
       "351019          1544990400                   33.99   \n",
       "39504           1543788000                   35.73   \n",
       "610354          1543690800                   28.06   \n",
       "\n",
       "        apparentTemperatureMinTime  apparentTemperatureMax  \\\n",
       "284552                  1543575600                   40.61   \n",
       "156316                  1543399200                   36.75   \n",
       "173630                  1543575600                   40.95   \n",
       "15757                   1545012000                   38.07   \n",
       "549339                  1543550400                   38.85   \n",
       "...                            ...                     ...   \n",
       "398135                  1544673600                   30.27   \n",
       "199716                  1543658400                   44.09   \n",
       "351019                  1545019200                   38.39   \n",
       "39504                   1543748400                   50.11   \n",
       "610354                  1543658400                   43.99   \n",
       "\n",
       "       apparentTemperatureMaxTime  \n",
       "284552                 1543611600  \n",
       "156316                 1543438800  \n",
       "173630                 1543608000  \n",
       "15757                  1544958000  \n",
       "549339                 1543510800  \n",
       "...                           ...  \n",
       "398135                 1544637600  \n",
       "199716                 1543690800  \n",
       "351019                 1544986800  \n",
       "39504                  1543788000  \n",
       "610354                 1543690800  \n",
       "\n",
       "[637976 rows x 57 columns]"
      ]
     },
     "execution_count": 63,
     "metadata": {},
     "output_type": "execute_result"
    }
   ],
   "source": [
    "from sklearn.utils import shuffle\n",
    "data_acak = shuffle(data)\n",
    "data_acak"
   ]
  },
  {
   "cell_type": "markdown",
   "metadata": {},
   "source": [
    "## Feature Selection\n"
   ]
  },
  {
   "cell_type": "code",
   "execution_count": null,
   "metadata": {},
   "outputs": [],
   "source": [
    "x_inference = data_acak.loc[:, ['hour','day','month','cab_type','name','distance','surge_multiplier','temperature', 'humidity']]\n",
    "y_inference = data_acak['price'].values"
   ]
  },
  {
   "cell_type": "code",
   "execution_count": null,
   "metadata": {},
   "outputs": [
    {
     "data": {
      "text/plain": [
       "(637976,)"
      ]
     },
     "execution_count": 65,
     "metadata": {},
     "output_type": "execute_result"
    }
   ],
   "source": [
    "y_inference.shape"
   ]
  },
  {
   "cell_type": "code",
   "execution_count": null,
   "metadata": {},
   "outputs": [
    {
     "data": {
      "text/plain": [
       "(637976, 9)"
      ]
     },
     "execution_count": 66,
     "metadata": {},
     "output_type": "execute_result"
    }
   ],
   "source": [
    "x_inference.shape"
   ]
  },
  {
   "cell_type": "markdown",
   "metadata": {},
   "source": [
    "## Handling Outliers\n",
    "---"
   ]
  },
  {
   "cell_type": "code",
   "execution_count": null,
   "metadata": {},
   "outputs": [
    {
     "name": "stdout",
     "output_type": "stream",
     "text": [
      "Column hour outliers = 0.00%\n",
      "Column day outliers = 0.00%\n",
      "Column month outliers = 0.00%\n",
      "Column distance outliers = 1.09%\n",
      "Column surge_multiplier outliers = 100.00%\n",
      "Column temperature outliers = 5.29%\n",
      "Column humidity outliers = 0.00%\n"
     ]
    }
   ],
   "source": [
    "num_inference = x_inference._get_numeric_data()\n",
    "for i, j in num_inference.items():\n",
    "  q1 = j.quantile(0.25)\n",
    "  q3 = j.quantile(0.75)\n",
    "  iqr = q3 - q1\n",
    "  j_col = j[(j <= q1 - 1.5 * iqr) | (j >= q3 + 1.5 * iqr)]\n",
    "  perc = np.shape(j_col)[0] * 100.0 / np.shape(num_inference)[0]\n",
    "  print(\"Column %s outliers = %.2f%%\" % (i, perc))"
   ]
  },
  {
   "cell_type": "code",
   "execution_count": null,
   "metadata": {},
   "outputs": [
    {
     "data": {
      "image/png": "[encoded data removed]",
      "text/plain": [
       "<Figure size 1152x288 with 2 Axes>"
      ]
     },
     "metadata": {
      "needs_background": "light"
     },
     "output_type": "display_data"
    },
    {
     "name": "stdout",
     "output_type": "stream",
     "text": [
      "\n",
      "Skewness Value :  0.8168484903389336\n"
     ]
    }
   ],
   "source": [
    "diagnostic_plots(x_inference, 'distance')\n",
    "print('\\nSkewness Value : ', x_inference['distance'].skew())"
   ]
  },
  {
   "cell_type": "code",
   "execution_count": null,
   "metadata": {},
   "outputs": [
    {
     "data": {
      "image/png": "[encoded data removed]",
      "text/plain": [
       "<Figure size 1152x288 with 2 Axes>"
      ]
     },
     "metadata": {
      "needs_background": "light"
     },
     "output_type": "display_data"
    },
    {
     "name": "stdout",
     "output_type": "stream",
     "text": [
      "\n",
      "Skewness Value :  -0.609190796402858\n"
     ]
    }
   ],
   "source": [
    "diagnostic_plots(x_inference, 'temperature')\n",
    "print('\\nSkewness Value : ', x_inference['temperature'].skew())"
   ]
  },
  {
   "cell_type": "code",
   "execution_count": null,
   "metadata": {},
   "outputs": [],
   "source": [
    "windsoriser = Winsorizer(capping_method='iqr', \n",
    "                          tail='both', \n",
    "                          fold=1.5,\n",
    "                          variables=['distance','temperature'])\n",
    "\n",
    "windsoriser.fit(x_inference)\n",
    "\n",
    "x_inference = windsoriser.transform(x_inference)"
   ]
  },
  {
   "cell_type": "code",
   "execution_count": null,
   "metadata": {},
   "outputs": [
    {
     "data": {
      "image/png": "[encoded data removed]",
      "text/plain": [
       "<Figure size 1152x288 with 2 Axes>"
      ]
     },
     "metadata": {
      "needs_background": "light"
     },
     "output_type": "display_data"
    },
    {
     "name": "stdout",
     "output_type": "stream",
     "text": [
      "\n",
      "Skewness Value :  0.5882789550279044\n"
     ]
    }
   ],
   "source": [
    "diagnostic_plots(x_inference, 'distance')\n",
    "print('\\nSkewness Value : ', x_inference['distance'].skew())"
   ]
  },
  {
   "cell_type": "code",
   "execution_count": null,
   "metadata": {},
   "outputs": [
    {
     "data": {
      "image/png": "[encoded data removed]",
      "text/plain": [
       "<Figure size 1152x288 with 2 Axes>"
      ]
     },
     "metadata": {
      "needs_background": "light"
     },
     "output_type": "display_data"
    },
    {
     "name": "stdout",
     "output_type": "stream",
     "text": [
      "\n",
      "Skewness Value :  -0.3180377348916173\n"
     ]
    }
   ],
   "source": [
    "diagnostic_plots(x_inference, 'temperature')\n",
    "print('\\nSkewness Value : ', x_inference['temperature'].skew())"
   ]
  },
  {
   "cell_type": "markdown",
   "metadata": {},
   "source": [
    "## Feature Encoding"
   ]
  },
  {
   "cell_type": "code",
   "execution_count": null,
   "metadata": {},
   "outputs": [],
   "source": [
    "x_inference = pd.get_dummies(x_inference, prefix='', prefix_sep='', \n",
    "                            columns=['cab_type', 'name'])"
   ]
  },
  {
   "cell_type": "markdown",
   "metadata": {},
   "source": [
    "## Feature Scaling"
   ]
  },
  {
   "cell_type": "code",
   "execution_count": null,
   "metadata": {},
   "outputs": [],
   "source": [
    "scaler = MinMaxScaler()\n",
    "scaler.fit(x_inference)\n",
    "x_inf = scaler.transform(x_inference)"
   ]
  },
  {
   "cell_type": "markdown",
   "metadata": {},
   "source": [
    "## Modeling"
   ]
  },
  {
   "cell_type": "code",
   "execution_count": null,
   "metadata": {},
   "outputs": [
    {
     "data": {
      "text/plain": [
       "LinearRegression()"
      ]
     },
     "execution_count": 75,
     "metadata": {},
     "output_type": "execute_result"
    }
   ],
   "source": [
    "model = LinearRegression()\n",
    "model.fit(x_inference, y_inference)"
   ]
  },
  {
   "cell_type": "markdown",
   "metadata": {},
   "source": [
    "## Prediction"
   ]
  },
  {
   "cell_type": "code",
   "execution_count": null,
   "metadata": {},
   "outputs": [
    {
     "data": {
      "text/plain": [
       "array([31.47607422,  4.04345703, 27.53393555, ...,  9.75244141,\n",
       "       11.34082031, 18.29711914])"
      ]
     },
     "execution_count": 76,
     "metadata": {},
     "output_type": "execute_result"
    }
   ],
   "source": [
    "y_predict_linear = model.predict(x_inference)\n",
    "y_predict_linear"
   ]
  },
  {
   "cell_type": "markdown",
   "metadata": {},
   "source": [
    "Ini adalah prediksi data target yang merupakan `price` menggunakan model yang dibuat."
   ]
  },
  {
   "cell_type": "markdown",
   "metadata": {},
   "source": [
    "## Conclusion"
   ]
  },
  {
   "cell_type": "markdown",
   "metadata": {},
   "source": [
    "Dari Uber dan Lyft Dataset, menggunakan regresi linier dengan `cab type`, `name`, `distance`, `surge multiplier`, `temperature`, `timestamp` sebagai fitur dan `price` sebagai target menghasilkan R2 Score sebesar 0.92 dari train & test data.\n",
    "\n",
    "\n",
    "R2 score menunjukkan proporsi titik data yang terletak di dalam garis yang dibuat oleh persamaan regresi. Nilai R2  score yang lebih tinggi diinginkan karena menunjukkan hasil yang lebih baik.\n",
    "\n",
    "Dari data diatas bisa dinyatakan bahwa nilai MAE, MSE dan RMAE memiliki nilai yang kecil. Semakin nilai ketiganya mendekati 0 maka model bisa dikatana semakin baik.\n",
    "\n",
    "Sedangkan untuk nilai MAPE menyatakan persentase akurasi dari model. Semakin kecil nilai persentase MAPE maka semakin baik model memprediksi nilai.\n",
    "\n",
    "Berikut nilai yang dihasilkan:\n",
    "\n",
    "- MAE Train :   1.7822905248180585\n",
    "- MSE Train :   6.310576070679174\n",
    "- RMAE Train :   2.5120859998573244\n",
    "- MAPE Train :   13.642841193227609\n",
    "- R2 Score Train :   0.9275199495299079\n",
    "---\n",
    "- MAE Test :   1.7794050091527287\n",
    "- MSE Test :   6.228265928556182\n",
    "- RMAE Test :   2.495649400167456\n",
    "- MAPE Test :   13.606735802078191\n",
    "- R2 Score Test :   0.9279569604945462_\n",
    "\n",
    "Berdasarkam nilai nilai diatas, dapat disimpulkan bahwa model yang dibuat sudah baik.\n",
    "\n",
    "---"
   ]
  }
 ],
 "metadata": {
  "interpreter": {
   "hash": "79cab1675c1a23ace95d31b60617287ee7bf47f3ae2c92dd1af0c950678716c0"
  },
  "kernelspec": {
   "display_name": "Python 3.10.1 64-bit",
   "language": "python",
   "name": "python3"
  },
  "language_info": {
   "codemirror_mode": {
    "name": "ipython",
    "version": 3
   },
   "file_extension": ".py",
   "mimetype": "text/x-python",
   "name": "python",
   "nbconvert_exporter": "python",
   "pygments_lexer": "ipython3",
   "version": "3.10.1"
  },
  "orig_nbformat": 4
 },
 "nbformat": 4,
 "nbformat_minor": 2
}
